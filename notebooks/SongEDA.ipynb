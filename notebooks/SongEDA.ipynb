{
 "cells": [
  {
   "cell_type": "code",
   "execution_count": 1,
   "metadata": {},
   "outputs": [
    {
     "name": "stderr",
     "output_type": "stream",
     "text": [
      "[nltk_data] Downloading package vader_lexicon to\n",
      "[nltk_data]     /Users/sibongiletoure/nltk_data...\n",
      "[nltk_data]   Package vader_lexicon is already up-to-date!\n"
     ]
    },
    {
     "data": {
      "text/plain": [
       "True"
      ]
     },
     "execution_count": 1,
     "metadata": {},
     "output_type": "execute_result"
    }
   ],
   "source": [
    "import pandas as pd \n",
    "import numpy as np\n",
    "import nltk \n",
    "from nltk.corpus import stopwords\n",
    "from nltk.corpus import words\n",
    "from textblob import TextBlob\n",
    "from nltk.sentiment.vader import SentimentIntensityAnalyzer\n",
    "nltk.download('vader_lexicon')"
   ]
  },
  {
   "cell_type": "code",
   "execution_count": 55,
   "metadata": {},
   "outputs": [],
   "source": [
    "music_df = pd.read_csv('music.csv')"
   ]
  },
  {
   "cell_type": "code",
   "execution_count": 56,
   "metadata": {},
   "outputs": [],
   "source": [
    "music_df.drop(columns=['Unnamed: 0','artists_y'],inplace=True)"
   ]
  },
  {
   "cell_type": "code",
   "execution_count": 57,
   "metadata": {},
   "outputs": [],
   "source": [
    "music_df = music_df.dropna(subset=['lyrics']).reset_index(drop=True)"
   ]
  },
  {
   "cell_type": "code",
   "execution_count": 58,
   "metadata": {},
   "outputs": [
    {
     "data": {
      "text/html": [
       "<div>\n",
       "<style scoped>\n",
       "    .dataframe tbody tr th:only-of-type {\n",
       "        vertical-align: middle;\n",
       "    }\n",
       "\n",
       "    .dataframe tbody tr th {\n",
       "        vertical-align: top;\n",
       "    }\n",
       "\n",
       "    .dataframe thead th {\n",
       "        text-align: right;\n",
       "    }\n",
       "</style>\n",
       "<table border=\"1\" class=\"dataframe\">\n",
       "  <thead>\n",
       "    <tr style=\"text-align: right;\">\n",
       "      <th></th>\n",
       "      <th>acousticness</th>\n",
       "      <th>artists_x</th>\n",
       "      <th>danceability</th>\n",
       "      <th>duration_ms</th>\n",
       "      <th>energy</th>\n",
       "      <th>explicit</th>\n",
       "      <th>id</th>\n",
       "      <th>instrumentalness</th>\n",
       "      <th>key</th>\n",
       "      <th>liveness</th>\n",
       "      <th>...</th>\n",
       "      <th>name</th>\n",
       "      <th>popularity</th>\n",
       "      <th>release_date</th>\n",
       "      <th>speechiness</th>\n",
       "      <th>tempo</th>\n",
       "      <th>valence</th>\n",
       "      <th>year</th>\n",
       "      <th>lyrics</th>\n",
       "      <th>primary_artist</th>\n",
       "      <th>genres</th>\n",
       "    </tr>\n",
       "  </thead>\n",
       "  <tbody>\n",
       "    <tr>\n",
       "      <th>0</th>\n",
       "      <td>0.872000</td>\n",
       "      <td>['$NOT', 'SUS Valentino']</td>\n",
       "      <td>0.566</td>\n",
       "      <td>114547</td>\n",
       "      <td>0.541</td>\n",
       "      <td>1</td>\n",
       "      <td>4yxFC6hIvXlD1YAtbuxcof</td>\n",
       "      <td>0.000038</td>\n",
       "      <td>5</td>\n",
       "      <td>0.1740</td>\n",
       "      <td>...</td>\n",
       "      <td>Lovely</td>\n",
       "      <td>59</td>\n",
       "      <td>2018-03-25</td>\n",
       "      <td>0.2900</td>\n",
       "      <td>87.020</td>\n",
       "      <td>0.5520</td>\n",
       "      <td>2018</td>\n",
       "      <td>Look up at the sun but when I see it, I just c...</td>\n",
       "      <td>$NOT</td>\n",
       "      <td>['east coast hip hop', 'gangster rap', 'hardco...</td>\n",
       "    </tr>\n",
       "    <tr>\n",
       "      <th>1</th>\n",
       "      <td>0.606000</td>\n",
       "      <td>['$NOT', 'Maggie Lindemann']</td>\n",
       "      <td>0.713</td>\n",
       "      <td>187587</td>\n",
       "      <td>0.470</td>\n",
       "      <td>1</td>\n",
       "      <td>3oGbHF3Kdwf3AsRCbBjUxu</td>\n",
       "      <td>0.000013</td>\n",
       "      <td>9</td>\n",
       "      <td>0.3060</td>\n",
       "      <td>...</td>\n",
       "      <td>Moon &amp; Stars (feat. Maggie Lindemann)</td>\n",
       "      <td>69</td>\n",
       "      <td>2020-03-06</td>\n",
       "      <td>0.0864</td>\n",
       "      <td>84.518</td>\n",
       "      <td>0.0825</td>\n",
       "      <td>2020</td>\n",
       "      <td>(Yung Castor) Ayy, bitch, I'll take you to the...</td>\n",
       "      <td>$NOT</td>\n",
       "      <td>['east coast hip hop', 'gangster rap', 'hardco...</td>\n",
       "    </tr>\n",
       "    <tr>\n",
       "      <th>2</th>\n",
       "      <td>0.164000</td>\n",
       "      <td>['$NOT', 'Wifisfuneral']</td>\n",
       "      <td>0.807</td>\n",
       "      <td>160731</td>\n",
       "      <td>0.564</td>\n",
       "      <td>1</td>\n",
       "      <td>0lB24x4SNbi8lLhUAsdoMO</td>\n",
       "      <td>0.000000</td>\n",
       "      <td>6</td>\n",
       "      <td>0.0804</td>\n",
       "      <td>...</td>\n",
       "      <td>BERETTA (feat. Wifisfuneral)</td>\n",
       "      <td>64</td>\n",
       "      <td>2020-03-06</td>\n",
       "      <td>0.3190</td>\n",
       "      <td>96.004</td>\n",
       "      <td>0.2250</td>\n",
       "      <td>2020</td>\n",
       "      <td>Gang, gang Yuh, ayy  I need it now (Yuh), if I...</td>\n",
       "      <td>$NOT</td>\n",
       "      <td>['east coast hip hop', 'gangster rap', 'hardco...</td>\n",
       "    </tr>\n",
       "    <tr>\n",
       "      <th>3</th>\n",
       "      <td>0.336000</td>\n",
       "      <td>['$NOT', 'Night Lovell']</td>\n",
       "      <td>0.757</td>\n",
       "      <td>172253</td>\n",
       "      <td>0.625</td>\n",
       "      <td>1</td>\n",
       "      <td>4zrYnAzX1CMRt9SoZdixMz</td>\n",
       "      <td>0.345000</td>\n",
       "      <td>1</td>\n",
       "      <td>0.1290</td>\n",
       "      <td>...</td>\n",
       "      <td>Human (feat. Night Lovell)</td>\n",
       "      <td>65</td>\n",
       "      <td>2020-05-22</td>\n",
       "      <td>0.1430</td>\n",
       "      <td>146.023</td>\n",
       "      <td>0.3890</td>\n",
       "      <td>2020</td>\n",
       "      <td>Ah, hahaha Ah, fuck this shit Fuck this shit, ...</td>\n",
       "      <td>$NOT</td>\n",
       "      <td>['east coast hip hop', 'gangster rap', 'hardco...</td>\n",
       "    </tr>\n",
       "    <tr>\n",
       "      <th>4</th>\n",
       "      <td>0.814000</td>\n",
       "      <td>['$NOT']</td>\n",
       "      <td>0.819</td>\n",
       "      <td>120000</td>\n",
       "      <td>0.462</td>\n",
       "      <td>1</td>\n",
       "      <td>3q8ms2oRMFsyxUYYKDiXIP</td>\n",
       "      <td>0.000016</td>\n",
       "      <td>0</td>\n",
       "      <td>0.3180</td>\n",
       "      <td>...</td>\n",
       "      <td>GOSHA</td>\n",
       "      <td>65</td>\n",
       "      <td>2018-09-14</td>\n",
       "      <td>0.4850</td>\n",
       "      <td>159.873</td>\n",
       "      <td>0.5000</td>\n",
       "      <td>2018</td>\n",
       "      <td>Ayy, nigga, I know you care about Gosha and pr...</td>\n",
       "      <td>$NOT</td>\n",
       "      <td>['east coast hip hop', 'gangster rap', 'hardco...</td>\n",
       "    </tr>\n",
       "    <tr>\n",
       "      <th>...</th>\n",
       "      <td>...</td>\n",
       "      <td>...</td>\n",
       "      <td>...</td>\n",
       "      <td>...</td>\n",
       "      <td>...</td>\n",
       "      <td>...</td>\n",
       "      <td>...</td>\n",
       "      <td>...</td>\n",
       "      <td>...</td>\n",
       "      <td>...</td>\n",
       "      <td>...</td>\n",
       "      <td>...</td>\n",
       "      <td>...</td>\n",
       "      <td>...</td>\n",
       "      <td>...</td>\n",
       "      <td>...</td>\n",
       "      <td>...</td>\n",
       "      <td>...</td>\n",
       "      <td>...</td>\n",
       "      <td>...</td>\n",
       "      <td>...</td>\n",
       "    </tr>\n",
       "    <tr>\n",
       "      <th>109688</th>\n",
       "      <td>0.000004</td>\n",
       "      <td>['Whiplash']</td>\n",
       "      <td>0.495</td>\n",
       "      <td>210987</td>\n",
       "      <td>0.958</td>\n",
       "      <td>0</td>\n",
       "      <td>1Ks2UecuMS4C0XVjNhtz0w</td>\n",
       "      <td>0.105000</td>\n",
       "      <td>11</td>\n",
       "      <td>0.0569</td>\n",
       "      <td>...</td>\n",
       "      <td>Last Man Alive</td>\n",
       "      <td>33</td>\n",
       "      <td>1985-01-01</td>\n",
       "      <td>0.0780</td>\n",
       "      <td>120.872</td>\n",
       "      <td>0.2120</td>\n",
       "      <td>1985</td>\n",
       "      <td>Take a look to the sky for your pot of gold Yo...</td>\n",
       "      <td>Whiplash</td>\n",
       "      <td>['death metal', 'metal', 'old school thrash', ...</td>\n",
       "    </tr>\n",
       "    <tr>\n",
       "      <th>109689</th>\n",
       "      <td>0.000004</td>\n",
       "      <td>['Whiplash']</td>\n",
       "      <td>0.348</td>\n",
       "      <td>252973</td>\n",
       "      <td>0.956</td>\n",
       "      <td>0</td>\n",
       "      <td>7x0eznaiq2CaLUfOqiUSvt</td>\n",
       "      <td>0.070900</td>\n",
       "      <td>8</td>\n",
       "      <td>0.3650</td>\n",
       "      <td>...</td>\n",
       "      <td>Power Thrashing Death</td>\n",
       "      <td>34</td>\n",
       "      <td>1985-01-01</td>\n",
       "      <td>0.0981</td>\n",
       "      <td>96.079</td>\n",
       "      <td>0.4220</td>\n",
       "      <td>1985</td>\n",
       "      <td>Inject it into the blood directly into the vei...</td>\n",
       "      <td>Whiplash</td>\n",
       "      <td>['death metal', 'metal', 'old school thrash', ...</td>\n",
       "    </tr>\n",
       "    <tr>\n",
       "      <th>109690</th>\n",
       "      <td>0.159000</td>\n",
       "      <td>['Whiskey Myers']</td>\n",
       "      <td>0.389</td>\n",
       "      <td>197187</td>\n",
       "      <td>0.834</td>\n",
       "      <td>0</td>\n",
       "      <td>4lXBIshfa0juWxi6odtLHt</td>\n",
       "      <td>0.000000</td>\n",
       "      <td>9</td>\n",
       "      <td>0.1160</td>\n",
       "      <td>...</td>\n",
       "      <td>Early Morning Shakes</td>\n",
       "      <td>49</td>\n",
       "      <td>2014-02-04</td>\n",
       "      <td>0.0851</td>\n",
       "      <td>152.346</td>\n",
       "      <td>0.5310</td>\n",
       "      <td>2014</td>\n",
       "      <td>I've been out here praying for sunshine All I ...</td>\n",
       "      <td>Whiskey Myers</td>\n",
       "      <td>['modern southern rock', 'texas country']</td>\n",
       "    </tr>\n",
       "    <tr>\n",
       "      <th>109691</th>\n",
       "      <td>0.243000</td>\n",
       "      <td>['Whiskey Myers']</td>\n",
       "      <td>0.438</td>\n",
       "      <td>335623</td>\n",
       "      <td>0.477</td>\n",
       "      <td>0</td>\n",
       "      <td>4rJesaufMl2xD0f2G8Xgnd</td>\n",
       "      <td>0.000008</td>\n",
       "      <td>0</td>\n",
       "      <td>0.1830</td>\n",
       "      <td>...</td>\n",
       "      <td>Stone</td>\n",
       "      <td>63</td>\n",
       "      <td>2016-09-09</td>\n",
       "      <td>0.0310</td>\n",
       "      <td>137.645</td>\n",
       "      <td>0.1760</td>\n",
       "      <td>2016</td>\n",
       "      <td>Well the night is my companion and the highway...</td>\n",
       "      <td>Whiskey Myers</td>\n",
       "      <td>['modern southern rock', 'texas country']</td>\n",
       "    </tr>\n",
       "    <tr>\n",
       "      <th>109692</th>\n",
       "      <td>0.001240</td>\n",
       "      <td>['Whiskey Myers']</td>\n",
       "      <td>0.564</td>\n",
       "      <td>208547</td>\n",
       "      <td>0.656</td>\n",
       "      <td>0</td>\n",
       "      <td>4SUCcLQoBArqzBG2Wf9wCy</td>\n",
       "      <td>0.000004</td>\n",
       "      <td>7</td>\n",
       "      <td>0.1070</td>\n",
       "      <td>...</td>\n",
       "      <td>Guitar Picker</td>\n",
       "      <td>47</td>\n",
       "      <td>2011-04-26</td>\n",
       "      <td>0.0306</td>\n",
       "      <td>83.995</td>\n",
       "      <td>0.5470</td>\n",
       "      <td>2011</td>\n",
       "      <td>I remember back when I was sixteen I was sitti...</td>\n",
       "      <td>Whiskey Myers</td>\n",
       "      <td>['modern southern rock', 'texas country']</td>\n",
       "    </tr>\n",
       "  </tbody>\n",
       "</table>\n",
       "<p>109693 rows × 22 columns</p>\n",
       "</div>"
      ],
      "text/plain": [
       "        acousticness                     artists_x  danceability  duration_ms  \\\n",
       "0           0.872000     ['$NOT', 'SUS Valentino']         0.566       114547   \n",
       "1           0.606000  ['$NOT', 'Maggie Lindemann']         0.713       187587   \n",
       "2           0.164000      ['$NOT', 'Wifisfuneral']         0.807       160731   \n",
       "3           0.336000      ['$NOT', 'Night Lovell']         0.757       172253   \n",
       "4           0.814000                      ['$NOT']         0.819       120000   \n",
       "...              ...                           ...           ...          ...   \n",
       "109688      0.000004                  ['Whiplash']         0.495       210987   \n",
       "109689      0.000004                  ['Whiplash']         0.348       252973   \n",
       "109690      0.159000             ['Whiskey Myers']         0.389       197187   \n",
       "109691      0.243000             ['Whiskey Myers']         0.438       335623   \n",
       "109692      0.001240             ['Whiskey Myers']         0.564       208547   \n",
       "\n",
       "        energy  explicit                      id  instrumentalness  key  \\\n",
       "0        0.541         1  4yxFC6hIvXlD1YAtbuxcof          0.000038    5   \n",
       "1        0.470         1  3oGbHF3Kdwf3AsRCbBjUxu          0.000013    9   \n",
       "2        0.564         1  0lB24x4SNbi8lLhUAsdoMO          0.000000    6   \n",
       "3        0.625         1  4zrYnAzX1CMRt9SoZdixMz          0.345000    1   \n",
       "4        0.462         1  3q8ms2oRMFsyxUYYKDiXIP          0.000016    0   \n",
       "...        ...       ...                     ...               ...  ...   \n",
       "109688   0.958         0  1Ks2UecuMS4C0XVjNhtz0w          0.105000   11   \n",
       "109689   0.956         0  7x0eznaiq2CaLUfOqiUSvt          0.070900    8   \n",
       "109690   0.834         0  4lXBIshfa0juWxi6odtLHt          0.000000    9   \n",
       "109691   0.477         0  4rJesaufMl2xD0f2G8Xgnd          0.000008    0   \n",
       "109692   0.656         0  4SUCcLQoBArqzBG2Wf9wCy          0.000004    7   \n",
       "\n",
       "        liveness  ...                                   name  popularity  \\\n",
       "0         0.1740  ...                                 Lovely          59   \n",
       "1         0.3060  ...  Moon & Stars (feat. Maggie Lindemann)          69   \n",
       "2         0.0804  ...           BERETTA (feat. Wifisfuneral)          64   \n",
       "3         0.1290  ...             Human (feat. Night Lovell)          65   \n",
       "4         0.3180  ...                                  GOSHA          65   \n",
       "...          ...  ...                                    ...         ...   \n",
       "109688    0.0569  ...                         Last Man Alive          33   \n",
       "109689    0.3650  ...                  Power Thrashing Death          34   \n",
       "109690    0.1160  ...                   Early Morning Shakes          49   \n",
       "109691    0.1830  ...                                  Stone          63   \n",
       "109692    0.1070  ...                          Guitar Picker          47   \n",
       "\n",
       "       release_date  speechiness    tempo  valence  year  \\\n",
       "0        2018-03-25       0.2900   87.020   0.5520  2018   \n",
       "1        2020-03-06       0.0864   84.518   0.0825  2020   \n",
       "2        2020-03-06       0.3190   96.004   0.2250  2020   \n",
       "3        2020-05-22       0.1430  146.023   0.3890  2020   \n",
       "4        2018-09-14       0.4850  159.873   0.5000  2018   \n",
       "...             ...          ...      ...      ...   ...   \n",
       "109688   1985-01-01       0.0780  120.872   0.2120  1985   \n",
       "109689   1985-01-01       0.0981   96.079   0.4220  1985   \n",
       "109690   2014-02-04       0.0851  152.346   0.5310  2014   \n",
       "109691   2016-09-09       0.0310  137.645   0.1760  2016   \n",
       "109692   2011-04-26       0.0306   83.995   0.5470  2011   \n",
       "\n",
       "                                                   lyrics  primary_artist  \\\n",
       "0       Look up at the sun but when I see it, I just c...            $NOT   \n",
       "1       (Yung Castor) Ayy, bitch, I'll take you to the...            $NOT   \n",
       "2       Gang, gang Yuh, ayy  I need it now (Yuh), if I...            $NOT   \n",
       "3       Ah, hahaha Ah, fuck this shit Fuck this shit, ...            $NOT   \n",
       "4       Ayy, nigga, I know you care about Gosha and pr...            $NOT   \n",
       "...                                                   ...             ...   \n",
       "109688  Take a look to the sky for your pot of gold Yo...        Whiplash   \n",
       "109689  Inject it into the blood directly into the vei...        Whiplash   \n",
       "109690  I've been out here praying for sunshine All I ...   Whiskey Myers   \n",
       "109691  Well the night is my companion and the highway...   Whiskey Myers   \n",
       "109692  I remember back when I was sixteen I was sitti...   Whiskey Myers   \n",
       "\n",
       "                                                   genres  \n",
       "0       ['east coast hip hop', 'gangster rap', 'hardco...  \n",
       "1       ['east coast hip hop', 'gangster rap', 'hardco...  \n",
       "2       ['east coast hip hop', 'gangster rap', 'hardco...  \n",
       "3       ['east coast hip hop', 'gangster rap', 'hardco...  \n",
       "4       ['east coast hip hop', 'gangster rap', 'hardco...  \n",
       "...                                                   ...  \n",
       "109688  ['death metal', 'metal', 'old school thrash', ...  \n",
       "109689  ['death metal', 'metal', 'old school thrash', ...  \n",
       "109690          ['modern southern rock', 'texas country']  \n",
       "109691          ['modern southern rock', 'texas country']  \n",
       "109692          ['modern southern rock', 'texas country']  \n",
       "\n",
       "[109693 rows x 22 columns]"
      ]
     },
     "execution_count": 58,
     "metadata": {},
     "output_type": "execute_result"
    }
   ],
   "source": [
    "music_df"
   ]
  },
  {
   "cell_type": "markdown",
   "metadata": {},
   "source": [
    "## Clean music lyrics\n",
    "* Remove nonenligsh song \n",
    "* Remove songs above 900 words and below 50 words\n",
    "* Average song length is 200-500 words"
   ]
  },
  {
   "cell_type": "code",
   "execution_count": 59,
   "metadata": {},
   "outputs": [
    {
     "name": "stdout",
     "output_type": "stream",
     "text": [
      "Requirement already satisfied: langdetect in /Users/sibongiletoure/anaconda3/envs/metis/lib/python3.8/site-packages (1.0.8)\r\n",
      "Requirement already satisfied: six in /Users/sibongiletoure/anaconda3/envs/metis/lib/python3.8/site-packages (from langdetect) (1.15.0)\r\n"
     ]
    }
   ],
   "source": [
    "!pip install langdetect\n",
    "from langdetect import detect\n",
    "def remove_non_english(text):\n",
    "    try:\n",
    "        lang = detect(text)\n",
    "        if lang == 'en':\n",
    "            result = text\n",
    "        else:\n",
    "            result = None\n",
    "    except:\n",
    "        result = text\n",
    "    return result"
   ]
  },
  {
   "cell_type": "code",
   "execution_count": 60,
   "metadata": {},
   "outputs": [],
   "source": [
    "corpus = music_df['lyrics']"
   ]
  },
  {
   "cell_type": "code",
   "execution_count": 61,
   "metadata": {},
   "outputs": [],
   "source": [
    "lyrics_len_list = []\n",
    "for line in corpus:\n",
    "    #print(line.split(\" \"))\n",
    "    lyrics_len_list.append(len(line.split(\" \")))"
   ]
  },
  {
   "cell_type": "code",
   "execution_count": 62,
   "metadata": {},
   "outputs": [
    {
     "data": {
      "image/png": "[encoded data removed]",
      "text/plain": [
       "<Figure size 432x288 with 1 Axes>"
      ]
     },
     "metadata": {
      "needs_background": "light"
     },
     "output_type": "display_data"
    }
   ],
   "source": [
    "import numpy as np\n",
    "import seaborn as sns\n",
    "import matplotlib.pyplot as plt\n",
    "sns.lineplot(x=np.arange(0,len(lyrics_len_list)), y=lyrics_len_list)\n",
    "plt.xlabel('Number of Songs')\n",
    "plt.ylabel('Number of Words in Song')\n",
    "plt.show();"
   ]
  },
  {
   "cell_type": "code",
   "execution_count": 63,
   "metadata": {},
   "outputs": [],
   "source": [
    "import numpy as np\n",
    "count = 0\n",
    "for i in lyrics_len_list:\n",
    "    if i > 900 or i < 50:\n",
    "        count+=1"
   ]
  },
  {
   "cell_type": "code",
   "execution_count": 64,
   "metadata": {},
   "outputs": [
    {
     "data": {
      "text/plain": [
       "13464"
      ]
     },
     "execution_count": 64,
     "metadata": {},
     "output_type": "execute_result"
    }
   ],
   "source": [
    "count"
   ]
  },
  {
   "cell_type": "code",
   "execution_count": 65,
   "metadata": {},
   "outputs": [],
   "source": [
    "for ix,line in enumerate(music_df['lyrics']):\n",
    "    if len(line.split(\" \")) > 10000:\n",
    "          music_df.drop(ix,inplace=True)"
   ]
  },
  {
   "cell_type": "code",
   "execution_count": 66,
   "metadata": {},
   "outputs": [],
   "source": [
    "music_df.reset_index(drop=True,inplace=True)"
   ]
  },
  {
   "cell_type": "code",
   "execution_count": 67,
   "metadata": {},
   "outputs": [],
   "source": [
    "music_df['lyrics'] = music_df['lyrics'].apply(remove_non_english)"
   ]
  },
  {
   "cell_type": "markdown",
   "metadata": {},
   "source": [
    "## Upon some inspection some artist have incorrect lyrics\n",
    "* Will drop those artist"
   ]
  },
  {
   "cell_type": "code",
   "execution_count": 68,
   "metadata": {},
   "outputs": [],
   "source": [
    "artists = ['Al Bowlly','Francisco Canaro', 'Jelly Roll Morton','Marty Murray','Numba 9','Slowburner','Barbara Cook','Louis Armstrong','Paul Whiteman','Carroll Gibbons','Giuseppe Giordani','Steve Correll Group','Duke Ellington',\\\n",
    "          'Jack Payne', 'Joe Quartz', 'Mississippi Sheiks','Raquel Meller','Robert David Hall','Robert Francis',\\\n",
    "         'Rock Projection', 'Shorty Bralik', 'The Executor', 'The New Yorkers','Jack Payne',\\\n",
    "         'Dick Justice','Jeff Beatman','Ninon Vallin','Charpin,Henry Hall','Art Tatum','Roy Fox','SURF',\\\n",
    "        'Bunny Berigan','Jack Jackson & His Orchestra','Jeff Henry','Metronome All Star Band','Nomy,Orchestra'  ,\\\n",
    "          'Django Reinhardt', 'Gion, Jeff Stetson', 'Glenn Miller' , 'Lonnie Johnson', 'Ludwig van Beethoven', \\\n",
    "          'P. Maximilian', 'Richard Wagner', 'Sylvia de Grasse', 'Tommy Dorsey','Charlie Chaplin', 'Count Basie',\\\n",
    "         'Mary Martin', 'Miles Davis', 'Mildred Bailey','Alice Faye',\\\n",
    "          'Big Maceo', 'Hot Lips page', 'Mushy Peas', 'Sonny Davis', 'The 1937 Flood', 'Walter La Ganga', 'Sonny Boy Williamson II',\\\n",
    "           'Dick Haymes', 'The Lion', 'Jesus Sosa', 'Joan Elliso',  'Lead Belly', 'P. Mobil', 'The Cotton Club'\\\n",
    "           'Richard Levitt', 'Malathi', 'The Executor', 'A.J. Croce', 'Ken Elkinson', 'Lena Horne', 'Local Oafs', 'Arthur Treacher', \\\n",
    "          'Asha Bhosle', 'Carlo Buti','Dmitri Shostakovich','Earl Robinson', 'Fred Astaire', 'Jean Sibelius', 'Mina', 'Natalino Otto',\\\n",
    "          'Orchestra Studio 7', 'Rajkumari', 'Alfred Newman', 'Richard Rodgers', '9 Days Wonder', 'Betty Grable','Don Byas','Lester Young',\\\n",
    "           'Memphis Slim', 'Stan Getz', 'Erroll Garner','The Hollywood Four Blazes', 'Buck Clayton', 'Neilson Taylor','Ella Logan',\\\n",
    "         'Joe Mooney', 'Jerry Laws', 'Hubert Fol', 'Merle Travis', 'Lon Hoyt', 'Roy Eldridge', 'Sheela', 'Sonny Terry','The Soft Winds',\\\n",
    "           'Dizzy Gillespie', 'Candy Johnson', 'Johnny Green', 'Charles Mingus', 'George Gershwin', 'John Lewis', 'Kurt Weill', 'Danny Kaye',\\\n",
    "         'Lord Melody','Esquivel!','Johnny Copper', 'Ogden Nash', 'Ouija Macc','Randy Cade','Ted Heath','Ahmad Jamal','Benny Carter',\\\n",
    "           'Bill Clifton','Buddy Weed','Flip Phillips','Josh White','Ken Griffin','Lefty Frizzell']"
   ]
  },
  {
   "cell_type": "code",
   "execution_count": 69,
   "metadata": {},
   "outputs": [],
   "source": [
    "for artist in artists:\n",
    "    music_df = music_df[music_df.primary_artist!=artist]"
   ]
  },
  {
   "cell_type": "code",
   "execution_count": 70,
   "metadata": {},
   "outputs": [],
   "source": [
    "music_df.reset_index(inplace=True,drop=True)"
   ]
  },
  {
   "cell_type": "markdown",
   "metadata": {},
   "source": [
    "## Spotify contains many subgenres\n",
    "* Will look for the key genre within the subgenre and add it to the dataframe"
   ]
  },
  {
   "cell_type": "code",
   "execution_count": 71,
   "metadata": {},
   "outputs": [],
   "source": [
    "genre_list = []\n",
    "for genre in music_df.genres:\n",
    "    if 'pop' in str(genre):\n",
    "        genre_list.append('Pop')\n",
    "    elif 'r&b' in str(genre):\n",
    "        genre_list.append('R&B')\n",
    "    elif 'hip hop' in str(genre):\n",
    "        genre_list.append('Hip-Hop')\n",
    "    elif 'country' in str(genre):\n",
    "        genre_list.append('Country')\n",
    "    elif 'rock' in str(genre):\n",
    "        genre_list.append('Rock')\n",
    "    elif 'indie' in str(genre):\n",
    "        genre_list.append('Indie')\n",
    "    elif 'blues' in str(genre):\n",
    "        genre_list.append('Blues')\n",
    "    elif 'jazz' in str(genre):\n",
    "        genre_list.append('Jazz')\n",
    "    elif 'electronic' in str(genre):\n",
    "        genre_list.append('Electronic')\n",
    "    elif 'folk' in str(genre):\n",
    "        genre_list.append('Folk')\n",
    "    else:\n",
    "        genre_list.append(None)"
   ]
  },
  {
   "cell_type": "code",
   "execution_count": 72,
   "metadata": {},
   "outputs": [],
   "source": [
    "music_df['genre'] = genre_list"
   ]
  },
  {
   "cell_type": "markdown",
   "metadata": {},
   "source": [
    "## Plots to see the behavior of the genres"
   ]
  },
  {
   "cell_type": "code",
   "execution_count": 33,
   "metadata": {},
   "outputs": [
    {
     "data": {
      "image/png": "[encoded data removed]",
      "text/plain": [
       "<Figure size 432x288 with 1 Axes>"
      ]
     },
     "metadata": {
      "needs_background": "light"
     },
     "output_type": "display_data"
    }
   ],
   "source": [
    "import seaborn as sns\n",
    "sns.countplot(y='genre', data=music_df ,palette='rocket_r',order = music_df['genre'].value_counts().index)\n",
    "plt.title('Genre Distribution');"
   ]
  },
  {
   "cell_type": "code",
   "execution_count": 36,
   "metadata": {},
   "outputs": [
    {
     "data": {
      "image/png": "[encoded data removed]",
      "text/plain": [
       "<Figure size 432x288 with 1 Axes>"
      ]
     },
     "metadata": {
      "needs_background": "light"
     },
     "output_type": "display_data"
    }
   ],
   "source": [
    "genre_df = music_df.groupby(['year','genre'])['name'].count()\n",
    "\n",
    "\n",
    "genre_df = genre_df.reset_index()\n",
    "\n",
    "genre_df = genre_df[genre_df.genre.isin(['Pop','Rock','Jazz'])]\n",
    "\n",
    "sns.lineplot(data=genre_df,x='year', \n",
    "             y='name',hue='genre',palette='rocket_r');\n",
    "plt.title('Number of songs across genre over time');"
   ]
  },
  {
   "cell_type": "markdown",
   "metadata": {},
   "source": [
    "## Energy and Valence are two key features in determining mood\n",
    "* Want to see how those perform over time"
   ]
  },
  {
   "cell_type": "code",
   "execution_count": 37,
   "metadata": {},
   "outputs": [
    {
     "data": {
      "image/png": "[encoded data removed]",
      "text/plain": [
       "<Figure size 432x288 with 1 Axes>"
      ]
     },
     "metadata": {
      "needs_background": "light"
     },
     "output_type": "display_data"
    }
   ],
   "source": [
    "music_df.groupby('year')['valence'].mean().plot(kind='line',color='orange');\n",
    "plt.title('Avg Valence over time');"
   ]
  },
  {
   "cell_type": "code",
   "execution_count": 38,
   "metadata": {},
   "outputs": [
    {
     "data": {
      "image/png": "[encoded data removed]",
      "text/plain": [
       "<Figure size 432x288 with 1 Axes>"
      ]
     },
     "metadata": {
      "needs_background": "light"
     },
     "output_type": "display_data"
    }
   ],
   "source": [
    "music_df.groupby('year')['energy'].mean().plot(kind='line',color='orange');\n",
    "plt.title('Avg Energy over time');"
   ]
  },
  {
   "cell_type": "markdown",
   "metadata": {},
   "source": [
    "## Lyrics are the next thing\n",
    "* Will perform sentiment analysis in this notebook and topic modeling in another"
   ]
  },
  {
   "cell_type": "code",
   "execution_count": 73,
   "metadata": {},
   "outputs": [],
   "source": [
    "music_df = music_df.sample(n=30000, random_state=1).reset_index(drop=True)"
   ]
  },
  {
   "cell_type": "code",
   "execution_count": 74,
   "metadata": {},
   "outputs": [],
   "source": [
    "corpus = music_df['lyrics']"
   ]
  },
  {
   "cell_type": "code",
   "execution_count": 75,
   "metadata": {},
   "outputs": [
    {
     "data": {
      "text/plain": [
       "0        Hee-haw! Hee-haw! Hee-haw!  When you left, the...\n",
       "1        Down by the Jordan it's early in the morning T...\n",
       "2        Wonderful, marvelous You should care for me! A...\n",
       "3        Where were you in sixty-eight? In sixty-eight,...\n",
       "4        I am dejected. I am depressed Yet resurrected ...\n",
       "                               ...                        \n",
       "29995    Oh, how the breakers roar Keep pulling me fart...\n",
       "29996    The very thought of you And I forget to do Tho...\n",
       "29997    I don't know how I'm going to tell you I can't...\n",
       "29998    I tried to love you, I thought I could I tried...\n",
       "29999    You know those days Those days where you're sa...\n",
       "Name: lyrics, Length: 30000, dtype: object"
      ]
     },
     "execution_count": 75,
     "metadata": {},
     "output_type": "execute_result"
    }
   ],
   "source": [
    "corpus"
   ]
  },
  {
   "cell_type": "code",
   "execution_count": 53,
   "metadata": {},
   "outputs": [],
   "source": [
    "negative = []\n",
    "neutral = []\n",
    "positive = []\n",
    "compound = []\n",
    "#Initialize the model\n",
    "sid = SentimentIntensityAnalyzer()\n",
    "for lyrics in corpus:\n",
    "    scores = sid.polarity_scores(str(lyrics))\n",
    "    negative.append(scores['neg'])\n",
    "    neutral.append(scores['neu'])\n",
    "    positive.append(scores['pos'])\n",
    "    compound.append(scores['compound'])"
   ]
  },
  {
   "cell_type": "code",
   "execution_count": 76,
   "metadata": {},
   "outputs": [],
   "source": [
    "music_df['scores'] = compound"
   ]
  },
  {
   "cell_type": "code",
   "execution_count": 77,
   "metadata": {},
   "outputs": [],
   "source": [
    "music_df['comp_score'] = music_df['scores'].apply(lambda c: 'pos' if c >=0.5  else ('neg' if c <= -0.5  else 'neu'))"
   ]
  },
  {
   "cell_type": "code",
   "execution_count": 78,
   "metadata": {},
   "outputs": [],
   "source": [
    "sentiment_df = music_df.groupby('genre')['scores'].mean().reset_index()"
   ]
  },
  {
   "cell_type": "code",
   "execution_count": 79,
   "metadata": {},
   "outputs": [
    {
     "data": {
      "text/plain": [
       "<AxesSubplot:xlabel='scores', ylabel='genre'>"
      ]
     },
     "execution_count": 79,
     "metadata": {},
     "output_type": "execute_result"
    },
    {
     "data": {
      "image/png": "[encoded data removed]",
      "text/plain": [
       "<Figure size 432x288 with 1 Axes>"
      ]
     },
     "metadata": {
      "needs_background": "light"
     },
     "output_type": "display_data"
    }
   ],
   "source": [
    "sns.barplot(x=\"scores\", y=\"genre\", data=sentiment_df,palette='rocket_r')"
   ]
  },
  {
   "cell_type": "code",
   "execution_count": null,
   "metadata": {},
   "outputs": [],
   "source": []
  }
 ],
 "metadata": {
  "kernelspec": {
   "display_name": "Python 3",
   "language": "python",
   "name": "python3"
  },
  "language_info": {
   "codemirror_mode": {
    "name": "ipython",
    "version": 3
   },
   "file_extension": ".py",
   "mimetype": "text/x-python",
   "name": "python",
   "nbconvert_exporter": "python",
   "pygments_lexer": "ipython3",
   "version": "3.8.5"
  }
 },
 "nbformat": 4,
 "nbformat_minor": 4
}

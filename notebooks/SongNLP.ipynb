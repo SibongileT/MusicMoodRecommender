{
 "cells": [
  {
   "cell_type": "markdown",
   "metadata": {},
   "source": [
    "## Try and find song lyrings based on genre"
   ]
  },
  {
   "cell_type": "code",
   "execution_count": 105,
   "metadata": {},
   "outputs": [],
   "source": [
    "import re\n",
    "import numpy as np\n",
    "import pandas as pd\n",
    "from pprint import pprint\n",
    "\n",
    "import matplotlib.pyplot as plt\n",
    "%matplotlib inline\n",
    "\n",
    "\n",
    "import warnings\n",
    "warnings.filterwarnings(\"ignore\",category=DeprecationWarning)"
   ]
  },
  {
   "cell_type": "code",
   "execution_count": 106,
   "metadata": {},
   "outputs": [],
   "source": [
    "music_df = pd.read_csv('sample_data.csv')"
   ]
  },
  {
   "cell_type": "code",
   "execution_count": 109,
   "metadata": {},
   "outputs": [],
   "source": [
    "corpus = music_df['lyrics']"
   ]
  },
  {
   "cell_type": "markdown",
   "metadata": {},
   "source": [
    "## Regular NLP\n",
    "* Remove Names and places from corpus\n",
    "* add some basic stopwords to the stop word list"
   ]
  },
  {
   "cell_type": "code",
   "execution_count": 110,
   "metadata": {},
   "outputs": [
    {
     "name": "stderr",
     "output_type": "stream",
     "text": [
      "[nltk_data] Downloading package averaged_perceptron_tagger to\n",
      "[nltk_data]     /Users/sibongiletoure/nltk_data...\n",
      "[nltk_data]   Package averaged_perceptron_tagger is already up-to-\n",
      "[nltk_data]       date!\n"
     ]
    }
   ],
   "source": [
    "import nltk\n",
    "## Remove proper nouns\n",
    "nltk.download('averaged_perceptron_tagger')\n",
    "new_corp = []\n",
    "for lyric in corpus:\n",
    "  tagged_lyric = nltk.tag.pos_tag(str(lyric).split())\n",
    "  edited_lyric = [word for word,tag in tagged_lyric if tag != 'NNP' and tag != 'NNPS']\n",
    "  new_corp.append(' '.join(edited_lyric))\n",
    "df = pd.DataFrame(new_corp,columns=['lyrics'])"
   ]
  },
  {
   "cell_type": "code",
   "execution_count": 111,
   "metadata": {},
   "outputs": [],
   "source": [
    " corpus = df['lyrics']"
   ]
  },
  {
   "cell_type": "code",
   "execution_count": 112,
   "metadata": {},
   "outputs": [],
   "source": [
    "stopwords = nltk.corpus.stopwords.words('english')\n",
    "newStopWords = ['see', 'look', 'tell', 'make', 'use','do','go']\n",
    "stopwords.extend(newStopWords)\n",
    "stop_words = set(stopwords)"
   ]
  },
  {
   "cell_type": "code",
   "execution_count": 113,
   "metadata": {},
   "outputs": [],
   "source": [
    "from sklearn.feature_extraction.text import CountVectorizer\n",
    "import pickle\n",
    "from nltk.stem import WordNetLemmatizer \n",
    "from nltk.tokenize import TreebankWordTokenizer\n",
    "from autocorrect import Speller\n",
    "\n",
    "class NLPPipe:\n",
    "   \n",
    "    def __init__(self, vectorizer=CountVectorizer(), tokenizer=None, cleaning_function=None, \n",
    "                 lemmatizer=None,model=None):\n",
    "        if not tokenizer:\n",
    "            tokenizer = self.splitter\n",
    "        if not cleaning_function:\n",
    "            cleaning_function = self.clean_text\n",
    "        self.lemmatizer = lemmatizer\n",
    "        self.tokenizer = tokenizer\n",
    "        self.model = model\n",
    "        self.cleaning_function = cleaning_function\n",
    "        self.vectorizer = vectorizer\n",
    "        self._is_fit = False\n",
    "        \n",
    "    def splitter(self, text):\n",
    "        return text.split(' ')\n",
    "        \n",
    "    \n",
    "    def fit_transform(self, text):\n",
    "        clean_text = self.cleaning_function(text, self.tokenizer, self.lemmatizer)\n",
    "        return self.vectorizer.fit_transform(clean_text)"
   ]
  },
  {
   "cell_type": "code",
   "execution_count": 114,
   "metadata": {},
   "outputs": [],
   "source": [
    "def clean_text(text, tokenizer, lemmatizer):\n",
    "    text=text.str.replace(r'\\d+','')\n",
    "    text=text.replace(r'[^A-Za-z0-9 ]+', '', regex=True)\n",
    "    cleaned_text = []\n",
    "    for post in text:\n",
    "        cleaned_words = []\n",
    "        for word in tokenizer(post):\n",
    "            low_word = word.lower()\n",
    "            if lemmatizer:\n",
    "                low_word = lemmatizer.lemmatize(low_word)\n",
    "            cleaned_words.append(low_word)\n",
    "        cleaned_text.append(' '.join(cleaned_words))\n",
    "    return cleaned_text"
   ]
  },
  {
   "cell_type": "code",
   "execution_count": 115,
   "metadata": {},
   "outputs": [],
   "source": [
    "nlp = NLPPipe(vectorizer=CountVectorizer(stop_words = stop_words,max_df=0.8), \n",
    "              cleaning_function=clean_text, \n",
    "              tokenizer=TreebankWordTokenizer().tokenize,\n",
    "              lemmatizer = WordNetLemmatizer())\n",
    "\n",
    "count_result = nlp.fit_transform(corpus)"
   ]
  },
  {
   "cell_type": "code",
   "execution_count": 116,
   "metadata": {},
   "outputs": [],
   "source": [
    "def display_topics(model, feature_names, no_top_words, topic_names=None):\n",
    "    for ix, topic in enumerate(model.components_):\n",
    "        if not topic_names or not topic_names[ix]:\n",
    "            print(\"\\nTopic \", ix)\n",
    "        else:\n",
    "            print(\"\\nTopic: '\",topic_names[ix],\"'\")\n",
    "        print(\", \".join([feature_names[i]\n",
    "                        for i in topic.argsort()[:-no_top_words - 1:-1]]))"
   ]
  },
  {
   "cell_type": "markdown",
   "metadata": {},
   "source": [
    "##  Try LDA with a max_df of 0.8"
   ]
  },
  {
   "cell_type": "code",
   "execution_count": 117,
   "metadata": {},
   "outputs": [
    {
     "name": "stdout",
     "output_type": "stream",
     "text": [
      "\n",
      "Topic  0\n",
      "rock, song, sing, like, people, come, one, hand, music, hear\n",
      "\n",
      "Topic  1\n",
      "come, youre, home, baby, back, run, around, like, round, shake\n",
      "\n",
      "Topic  2\n",
      "yeah, baby, time, oh, night, good, girl, way, get, feel\n",
      "\n",
      "Topic  3\n",
      "wa, said, never, could, man, time, one, would, like, back\n",
      "\n",
      "Topic  4\n",
      "got, oh, little, get, hey, ta, girl, know, dont, want\n",
      "\n",
      "Topic  5\n",
      "na, gon, wan, la, back, got, take, town, blue, dont\n",
      "\n",
      "Topic  6\n",
      "like, nigga, bitch, got, shit, yeah, fuck, aint, dont, back\n",
      "\n",
      "Topic  7\n",
      "get, like, know, got, dont, aint, ya, let, man, em\n",
      "\n",
      "Topic  8\n",
      "eye, away, dream, sky, light, day, night, like, one, sun\n",
      "\n",
      "Topic  9\n",
      "love, know, dont, want, cant, never, need, heart, let, say\n"
     ]
    }
   ],
   "source": [
    "from sklearn.decomposition import LatentDirichletAllocation\n",
    "lda_tf = LatentDirichletAllocation(n_components=10, random_state=0)\n",
    "lda_tf.fit(count_result)\n",
    "display_topics(lda_tf, nlp.vectorizer.get_feature_names(), 10)"
   ]
  },
  {
   "cell_type": "markdown",
   "metadata": {},
   "source": [
    "### Not very clear topics lower the max_df to 0.5"
   ]
  },
  {
   "cell_type": "code",
   "execution_count": 118,
   "metadata": {},
   "outputs": [],
   "source": [
    "nlp = NLPPipe(vectorizer=CountVectorizer(stop_words = stop_words,max_df=0.5), \n",
    "              cleaning_function=clean_text, \n",
    "              tokenizer=TreebankWordTokenizer().tokenize,\n",
    "              lemmatizer = WordNetLemmatizer())\n",
    "\n",
    "count_result = nlp.fit_transform(corpus)"
   ]
  },
  {
   "cell_type": "code",
   "execution_count": 119,
   "metadata": {},
   "outputs": [
    {
     "name": "stdout",
     "output_type": "stream",
     "text": [
      "\n",
      "Topic  0\n",
      "wa, night, come, eye, oh, blue, like, fire, sky, rain\n",
      "\n",
      "Topic  1\n",
      "love, dont, oh, want, say, need, yeah, got, feel, like\n",
      "\n",
      "Topic  2\n",
      "want, life, alive, bit, live, little, light, dead, mind, like\n",
      "\n",
      "Topic  3\n",
      "yeah, la, hey, good, rock, ah, get, ready, roll, come\n",
      "\n",
      "Topic  4\n",
      "na, gon, get, cant, back, dont, come, right, youre, say\n",
      "\n",
      "Topic  5\n",
      "baby, let, time, tonight, dont, woman, keep, like, got, one\n",
      "\n",
      "Topic  6\n",
      "away, never, way, day, heart, time, take, one, like, world\n",
      "\n",
      "Topic  7\n",
      "like, nigga, got, get, shit, bitch, aint, dont, yeah, fuck\n",
      "\n",
      "Topic  8\n",
      "got, wa, one, man, like, get, dont, time, said, aint\n",
      "\n",
      "Topic  9\n",
      "na, girl, wan, got, like, dance, boy, little, get, move\n"
     ]
    }
   ],
   "source": [
    "from sklearn.decomposition import LatentDirichletAllocation\n",
    "lda_tf = LatentDirichletAllocation(n_components=10, random_state=0)\n",
    "lda_tf.fit(count_result)\n",
    "display_topics(lda_tf, nlp.vectorizer.get_feature_names(), 10)"
   ]
  },
  {
   "cell_type": "markdown",
   "metadata": {},
   "source": [
    "## Add some more stopwords in english and spanish\n",
    "* Try LDA with a min_df of 0.01 and using CountVectorizer"
   ]
  },
  {
   "cell_type": "code",
   "execution_count": 120,
   "metadata": {},
   "outputs": [],
   "source": [
    "spanish_stopwords = nltk.corpus.stopwords.words('spanish')\n",
    "newStopWords = ['oh', 'we', 'she', 'are', 'by','gim','da','at','see', 'look', 'tell', 'make', 'use','do','go']\n",
    "stopwords.extend(newStopWords)\n",
    "stopwords.extend(spanish_stopwords)\n",
    "stop_words = set(stopwords)"
   ]
  },
  {
   "cell_type": "code",
   "execution_count": 121,
   "metadata": {},
   "outputs": [],
   "source": [
    "nlp = NLPPipe(vectorizer=CountVectorizer(stop_words = stop_words,min_df=0.01), \n",
    "              cleaning_function=clean_text, \n",
    "              tokenizer=TreebankWordTokenizer().tokenize,\n",
    "              lemmatizer = WordNetLemmatizer())\n",
    "\n",
    "count_result = nlp.fit_transform(corpus)"
   ]
  },
  {
   "cell_type": "code",
   "execution_count": 122,
   "metadata": {},
   "outputs": [
    {
     "name": "stdout",
     "output_type": "stream",
     "text": [
      "\n",
      "Topic  0\n",
      "let, take, away, cant, world, one, feel, eye, fall, inside\n",
      "\n",
      "Topic  1\n",
      "na, know, yeah, dont, wan, like, feel, love, youre, girl\n",
      "\n",
      "Topic  2\n",
      "dont, life, got, give, live, think, thing, friend, die, nothing\n",
      "\n",
      "Topic  3\n",
      "nigga, like, aint, got, bitch, shit, yeah, fuck, know, dont\n",
      "\n",
      "Topic  4\n",
      "night, way, home, day, long, away, blue, sing, song, going\n",
      "\n",
      "Topic  5\n",
      "wa, love, never, could, heart, one, would, day, like, know\n",
      "\n",
      "Topic  6\n",
      "get, like, got, man, boy, em, put, back, let, dont\n",
      "\n",
      "Topic  7\n",
      "love, baby, want, need, little, dont, girl, tonight, give, got\n",
      "\n",
      "Topic  8\n",
      "time, come, know, say, right, keep, good, woman, stop, together\n",
      "\n",
      "Topic  9\n",
      "gon, na, back, gone, got, high, youre, well, round, shes\n"
     ]
    }
   ],
   "source": [
    "from sklearn.decomposition import LatentDirichletAllocation\n",
    "lda_tf = LatentDirichletAllocation(n_components=10, random_state=0)\n",
    "lda_tf.fit(count_result)\n",
    "display_topics(lda_tf, nlp.vectorizer.get_feature_names(), 10)"
   ]
  },
  {
   "cell_type": "markdown",
   "metadata": {},
   "source": [
    "* Try max_df of 0.5 and add a ngram_range of 1,2"
   ]
  },
  {
   "cell_type": "code",
   "execution_count": 123,
   "metadata": {},
   "outputs": [],
   "source": [
    "nlp = NLPPipe(vectorizer=CountVectorizer(stop_words = stop_words,max_df=0.5,ngram_range=(1,2)), \n",
    "              cleaning_function=clean_text, \n",
    "              tokenizer=TreebankWordTokenizer().tokenize,\n",
    "              lemmatizer = WordNetLemmatizer())\n",
    "\n",
    "count_result = nlp.fit_transform(corpus)"
   ]
  },
  {
   "cell_type": "code",
   "execution_count": 124,
   "metadata": {},
   "outputs": [
    {
     "name": "stdout",
     "output_type": "stream",
     "text": [
      "\n",
      "Topic  0\n",
      "let, like, one, time, got, get, come, yeah, dont, way\n",
      "\n",
      "Topic  1\n",
      "never, wa, like, day, love, night, time, say, back, dont\n",
      "\n",
      "Topic  2\n",
      "like, get, got, dont, na, yeah, one, say, gon, love\n",
      "\n",
      "Topic  3\n",
      "love, want, baby, dont, never, heart, need, say, time, come\n",
      "\n",
      "Topic  4\n",
      "got, wa, girl, one, dont, get, like, back, man, say\n",
      "\n",
      "Topic  5\n",
      "na, wan, wan na, dont, baby, got, gon, love, like, gon na\n",
      "\n",
      "Topic  6\n",
      "like, na, got, gon, gon na, get, time, wa, hey, dont\n",
      "\n",
      "Topic  7\n",
      "dont, like, get, got, youre, back, cause, want, let, yeah\n",
      "\n",
      "Topic  8\n",
      "wa, like, yeah, one, away, want, cant, dont, get, time\n",
      "\n",
      "Topic  9\n",
      "nigga, like, bitch, got, dont, shit, aint, get, yeah, time\n"
     ]
    }
   ],
   "source": [
    "from sklearn.decomposition import LatentDirichletAllocation\n",
    "lda_tf = LatentDirichletAllocation(n_components=10, random_state=0)\n",
    "lda_tf.fit(count_result)\n",
    "display_topics(lda_tf, nlp.vectorizer.get_feature_names(), 10)"
   ]
  },
  {
   "cell_type": "markdown",
   "metadata": {},
   "source": [
    "* Add in some new stopwords"
   ]
  },
  {
   "cell_type": "code",
   "execution_count": 125,
   "metadata": {},
   "outputs": [],
   "source": [
    "newStopWords = ['yeah', 'na', 'wan', 'gon', 'get','aint','cant','at','see', 'look', 'tell', 'make', 'use','do','go','got']\n",
    "stopwords.extend(newStopWords)\n",
    "stopwords.extend(spanish_stopwords)\n",
    "stop_words = set(stopwords)"
   ]
  },
  {
   "cell_type": "code",
   "execution_count": 126,
   "metadata": {},
   "outputs": [],
   "source": [
    "nlp = NLPPipe(vectorizer=CountVectorizer(stop_words = stop_words,min_df=0.01,ngram_range=(1,2)), \n",
    "              cleaning_function=clean_text, \n",
    "              tokenizer=TreebankWordTokenizer().tokenize,\n",
    "              lemmatizer = WordNetLemmatizer())\n",
    "\n",
    "count_result = nlp.fit_transform(corpus)"
   ]
  },
  {
   "cell_type": "code",
   "execution_count": 127,
   "metadata": {},
   "outputs": [
    {
     "name": "stdout",
     "output_type": "stream",
     "text": [
      "\n",
      "Topic  0\n",
      "dont, know, come, say, never, home, dont know, right, want, need\n",
      "\n",
      "Topic  1\n",
      "let, one, world, like, light, free, new, around, bad, beat\n",
      "\n",
      "Topic  2\n",
      "away, take, give, time, going, run, long, youre, wont, dont\n",
      "\n",
      "Topic  3\n",
      "baby, hey, woman, ah, way, hey hey, baby baby, love, every, sweet\n",
      "\n",
      "Topic  4\n",
      "like, night, girl, little, tonight, youre, right, feel, know, dance\n",
      "\n",
      "Topic  5\n",
      "life, day, eye, dream, time, heart, night, come, live, sky\n",
      "\n",
      "Topic  6\n",
      "back, like, em, time, boy, man, wa, ta, rock, put\n",
      "\n",
      "Topic  7\n",
      "wa, know, said, way, thing, could, time, one, would, never\n",
      "\n",
      "Topic  8\n",
      "love, know, love love, want, need, heart, feel, good, never, one\n",
      "\n",
      "Topic  9\n",
      "like, nigga, want, bitch, shit, dont, fuck, know, money, ooh\n"
     ]
    }
   ],
   "source": [
    "from sklearn.decomposition import LatentDirichletAllocation\n",
    "lda_tf = LatentDirichletAllocation(n_components=10, random_state=0)\n",
    "lda_tf.fit(count_result)\n",
    "display_topics(lda_tf, nlp.vectorizer.get_feature_names(), 10)"
   ]
  },
  {
   "cell_type": "code",
   "execution_count": 128,
   "metadata": {},
   "outputs": [],
   "source": [
    "nlp = NLPPipe(vectorizer=CountVectorizer(stop_words = stop_words,max_df=0.5,ngram_range=(1,2)), \n",
    "              cleaning_function=clean_text, \n",
    "              tokenizer=TreebankWordTokenizer().tokenize,\n",
    "              lemmatizer = WordNetLemmatizer())\n",
    "\n",
    "count_result = nlp.fit_transform(corpus)"
   ]
  },
  {
   "cell_type": "code",
   "execution_count": 129,
   "metadata": {},
   "outputs": [
    {
     "name": "stdout",
     "output_type": "stream",
     "text": [
      "\n",
      "Topic  0\n",
      "like, dont, back, never, wa, love, want, baby, youre, nigga\n",
      "\n",
      "Topic  1\n",
      "love, like, wa, dont, time, want, one, man, hey, take\n",
      "\n",
      "Topic  2\n",
      "good, one, like, right, wa, love, time, dont, youre, come\n",
      "\n",
      "Topic  3\n",
      "dont, like, baby, time, say, love, night, want, wa, way\n",
      "\n",
      "Topic  4\n",
      "love, like, dont, let, come, baby, time, way, never, youre\n",
      "\n",
      "Topic  5\n",
      "love, like, one, dont, take, love love, say, wa, away, still\n",
      "\n",
      "Topic  6\n",
      "one, need, dont, way, man, ah, time, love, come, let\n",
      "\n",
      "Topic  7\n",
      "want, like, dont, one, away, give, say, time, baby, never\n",
      "\n",
      "Topic  8\n",
      "like, wa, come, time, one, take, love, dont, back, light\n",
      "\n",
      "Topic  9\n",
      "like, feel, love, say, time, let, dont, way, want, wa\n"
     ]
    }
   ],
   "source": [
    "from sklearn.decomposition import LatentDirichletAllocation\n",
    "lda_tf = LatentDirichletAllocation(n_components=10, random_state=0)\n",
    "lda_tf.fit(count_result)\n",
    "display_topics(lda_tf, nlp.vectorizer.get_feature_names(), 10)"
   ]
  },
  {
   "cell_type": "markdown",
   "metadata": {},
   "source": [
    "## NMF"
   ]
  },
  {
   "cell_type": "code",
   "execution_count": 130,
   "metadata": {},
   "outputs": [],
   "source": [
    "newStopWords = ['way', 'wa', 'say', 'gon', 'ill','youre','well','let','ooh']\n",
    "stopwords.extend(newStopWords)\n",
    "stop_words = set(stopwords)"
   ]
  },
  {
   "cell_type": "code",
   "execution_count": 133,
   "metadata": {},
   "outputs": [],
   "source": [
    "nlp = NLPPipe(vectorizer=CountVectorizer(stop_words = stop_words,max_df=0.5,ngram_range=(1,2)), \n",
    "              cleaning_function=clean_text, \n",
    "              tokenizer=TreebankWordTokenizer().tokenize,\n",
    "              lemmatizer = WordNetLemmatizer())\n",
    "\n",
    "count_result = nlp.fit_transform(corpus)"
   ]
  },
  {
   "cell_type": "code",
   "execution_count": 134,
   "metadata": {},
   "outputs": [],
   "source": [
    "from sklearn.decomposition import NMF\n",
    "nmf_model = NMF(5)\n",
    "doc_topic = nmf_model.fit_transform(count_result)"
   ]
  },
  {
   "cell_type": "code",
   "execution_count": 135,
   "metadata": {},
   "outputs": [
    {
     "name": "stdout",
     "output_type": "stream",
     "text": [
      "\n",
      "Topic  0\n",
      "time, one, never, back, come, take, day, night, right, life\n",
      "\n",
      "Topic  1\n",
      "love, love love, heart, need, give, feel, still, never, know love, girl\n",
      "\n",
      "Topic  2\n",
      "like, nigga, bitch, shit, like like, fuck, back, cause, feel, em\n",
      "\n",
      "Topic  3\n",
      "baby, baby baby, girl, want, come, little, shake, need, good, take\n",
      "\n",
      "Topic  4\n",
      "dont, want, dont know, need, dont want, nigga, cause, give, dont dont, think\n"
     ]
    }
   ],
   "source": [
    "display_topics(nmf_model, nlp.vectorizer.get_feature_names(), 10)"
   ]
  },
  {
   "cell_type": "code",
   "execution_count": 136,
   "metadata": {},
   "outputs": [],
   "source": [
    "nlp = NLPPipe(vectorizer=CountVectorizer(stop_words = stop_words,max_df=0.5,ngram_range=(1,2)), \n",
    "              cleaning_function=clean_text, \n",
    "              tokenizer=TreebankWordTokenizer().tokenize,\n",
    "              lemmatizer = WordNetLemmatizer())\n",
    "\n",
    "count_result = nlp.fit_transform(corpus)"
   ]
  },
  {
   "cell_type": "code",
   "execution_count": 137,
   "metadata": {},
   "outputs": [
    {
     "name": "stdout",
     "output_type": "stream",
     "text": [
      "\n",
      "Topic  0\n",
      "love, like, hey, girl, one, dont, thing, wont, want, away\n",
      "\n",
      "Topic  1\n",
      "dont, like, come, time, baby, one, day, away, feel, right\n",
      "\n",
      "Topic  2\n",
      "love, like, baby, want, dont, nigga, one, time, need, feel\n",
      "\n",
      "Topic  3\n",
      "one, dont, like, time, heart, never, take, want, nigga, cause\n",
      "\n",
      "Topic  4\n",
      "like, love, dont, time, one, man, home, away, could, eye\n",
      "\n",
      "Topic  5\n",
      "love, time, dont, take, little, said, want, one, baby, like\n",
      "\n",
      "Topic  6\n",
      "like, love, baby, dont, take, time, never, want, one, girl\n",
      "\n",
      "Topic  7\n",
      "like, dont, love, baby, come, need, night, day, time, never\n",
      "\n",
      "Topic  8\n",
      "like, never, dont, back, right, one, want, life, cause, could\n",
      "\n",
      "Topic  9\n",
      "time, good, love, one, like, dont, take, world, never, come\n"
     ]
    }
   ],
   "source": [
    "lda_tf = LatentDirichletAllocation(n_components=10, random_state=0)\n",
    "lda_tf.fit(count_result)\n",
    "display_topics(lda_tf, nlp.vectorizer.get_feature_names(), 10)"
   ]
  },
  {
   "cell_type": "markdown",
   "metadata": {},
   "source": [
    "## Use Tfidf as vectorizer"
   ]
  },
  {
   "cell_type": "code",
   "execution_count": null,
   "metadata": {},
   "outputs": [],
   "source": [
    "from sklearn.feature_extraction.text import TfidfVectorizer\n",
    "\n",
    "class NLPPipe:\n",
    "   \n",
    "    def __init__(self, vectorizer= TfidfVectorizer(), tokenizer=None, cleaning_function=None, \n",
    "                 lemmatizer=None,model=None):\n",
    "        if not tokenizer:\n",
    "            tokenizer = self.splitter\n",
    "        if not cleaning_function:\n",
    "            cleaning_function = self.clean_text\n",
    "        self.lemmatizer = lemmatizer\n",
    "        self.tokenizer = tokenizer\n",
    "        self.model = model\n",
    "        self.cleaning_function = cleaning_function\n",
    "        self.vectorizer = vectorizer\n",
    "        self._is_fit = False\n",
    "        \n",
    "    def splitter(self, text):\n",
    "        return text.split(' ')\n",
    "        \n",
    " \n",
    "    \n",
    "    def fit_transform(self, text):\n",
    "        clean_text = self.cleaning_function(text, self.tokenizer, self.lemmatizer)\n",
    "        return self.vectorizer.fit_transform(clean_text)"
   ]
  },
  {
   "cell_type": "code",
   "execution_count": null,
   "metadata": {},
   "outputs": [],
   "source": [
    "nlp = NLPPipe(vectorizer=TfidfVectorizer(stop_words = stop_words,max_df=0.5,ngram_range=(1,2)), \n",
    "              cleaning_function=clean_text, \n",
    "              tokenizer=TreebankWordTokenizer().tokenize,\n",
    "              lemmatizer = WordNetLemmatizer())\n",
    "\n",
    "tf_result = nlp.fit_transform(corpus)"
   ]
  },
  {
   "cell_type": "code",
   "execution_count": null,
   "metadata": {},
   "outputs": [],
   "source": [
    "lda_tf = LatentDirichletAllocation(n_components=10, random_state=0)\n",
    "lda_tf.fit(tf_result)\n",
    "display_topics(lda_tf, nlp.vectorizer.get_feature_names(), 10)"
   ]
  },
  {
   "cell_type": "code",
   "execution_count": 62,
   "metadata": {},
   "outputs": [],
   "source": [
    "nlp = NLPPipe(vectorizer=TfidfVectorizer(stop_words = stop_words,min_df=0.01,ngram_range=(1,2)), \n",
    "              cleaning_function=clean_text, \n",
    "              tokenizer=TreebankWordTokenizer().tokenize,\n",
    "              lemmatizer = WordNetLemmatizer())\n",
    "\n",
    "tf_result = nlp.fit_transform(corpus)"
   ]
  },
  {
   "cell_type": "code",
   "execution_count": 63,
   "metadata": {},
   "outputs": [
    {
     "name": "stdout",
     "output_type": "stream",
     "text": [
      "\n",
      "Topic  0\n",
      "love, eye, one, life, day, come, dream, night, im, away\n",
      "\n",
      "Topic  1\n",
      "song, sing, music, ah, come, beautiful, love, come come, wonderful, never\n",
      "\n",
      "Topic  2\n",
      "nigga, im, like, bitch, shit, fuck, dont, know, cause, em\n",
      "\n",
      "Topic  3\n",
      "little, little bit, bit, higher, shut, run, turn, sugar, round, late\n",
      "\n",
      "Topic  4\n",
      "love, baby, love love, dont, im, know, want, need, heart, girl\n",
      "\n",
      "Topic  5\n",
      "shes, blue, home, come, im, dance, girl, back, baby, lady\n",
      "\n",
      "Topic  6\n",
      "hey, baby, hey hey, im, tonight, like, right, dont, rock, girl\n",
      "\n",
      "Topic  7\n",
      "dont, know, want, im, dont know, girl, dont want, baby, know know, woman\n",
      "\n",
      "Topic  8\n",
      "im, love, know, time, dont, never, ive, like, could, one\n",
      "\n",
      "Topic  9\n",
      "im, man, old, said, like, back, one, dont, boy, home\n"
     ]
    }
   ],
   "source": [
    "lda_tf = LatentDirichletAllocation(n_components=10, random_state=0)\n",
    "lda_tf.fit(tf_result)\n",
    "display_topics(lda_tf, nlp.vectorizer.get_feature_names(), 10)"
   ]
  },
  {
   "cell_type": "code",
   "execution_count": 68,
   "metadata": {},
   "outputs": [],
   "source": [
    "from sklearn.decomposition import NMF\n",
    "nmf_model = NMF(5)\n",
    "doc_topic = nmf_model.fit_transform(tf_result)"
   ]
  },
  {
   "cell_type": "code",
   "execution_count": 69,
   "metadata": {},
   "outputs": [
    {
     "name": "stdout",
     "output_type": "stream",
     "text": [
      "\n",
      "Topic  0\n",
      "time, one, day, come, never, life, night, away, like, back\n",
      "\n",
      "Topic  1\n",
      "love, love love, heart, true, need, know love, give, love like, feel, never\n",
      "\n",
      "Topic  2\n",
      "im, nigga, like, bitch, shit, fuck, em, cause, back, money\n",
      "\n",
      "Topic  3\n",
      "baby, baby baby, hey, girl, come, hey hey, im, little, baby dont, love baby\n",
      "\n",
      "Topic  4\n",
      "dont, know, want, dont know, dont want, need, im, know know, cause, know dont\n"
     ]
    }
   ],
   "source": [
    "display_topics(nmf_model, nlp.vectorizer.get_feature_names(), 10)"
   ]
  },
  {
   "cell_type": "markdown",
   "metadata": {},
   "source": [
    "#### * Extend stop words again"
   ]
  },
  {
   "cell_type": "code",
   "execution_count": 70,
   "metadata": {},
   "outputs": [],
   "source": [
    "newStopWords = ['im', 'ah', 'em']\n",
    "stopwords.extend(newStopWords)\n",
    "stop_words = set(stopwords)"
   ]
  },
  {
   "cell_type": "code",
   "execution_count": 71,
   "metadata": {},
   "outputs": [],
   "source": [
    "nlp = NLPPipe(vectorizer=TfidfVectorizer(stop_words = stop_words,min_df=0.01,ngram_range=(1,2)), \n",
    "              cleaning_function=clean_text, \n",
    "              tokenizer=TreebankWordTokenizer().tokenize,\n",
    "              lemmatizer = WordNetLemmatizer())\n",
    "\n",
    "tf_result = nlp.fit_transform(corpus)"
   ]
  },
  {
   "cell_type": "markdown",
   "metadata": {},
   "source": [
    "#### Reduce the number of LDA topics"
   ]
  },
  {
   "cell_type": "code",
   "execution_count": 72,
   "metadata": {},
   "outputs": [
    {
     "name": "stdout",
     "output_type": "stream",
     "text": [
      "\n",
      "Topic  0\n",
      "love, day, one, night, come, like, away, life, eye, time\n",
      "\n",
      "Topic  1\n",
      "hey, dont, like, want, man, know, little, girl, right, rock\n",
      "\n",
      "Topic  2\n",
      "love, dont, know, never, time, heart, one, want, ive, feel\n",
      "\n",
      "Topic  3\n",
      "baby, love, come, girl, dont, know, love love, woman, baby baby, shes\n",
      "\n",
      "Topic  4\n",
      "nigga, like, bitch, shit, fuck, dont, know, cause, back, money\n"
     ]
    }
   ],
   "source": [
    "lda_tf = LatentDirichletAllocation(n_components=5, random_state=0)\n",
    "lda_tf.fit(tf_result)\n",
    "display_topics(lda_tf, nlp.vectorizer.get_feature_names(), 10)"
   ]
  },
  {
   "cell_type": "code",
   "execution_count": 75,
   "metadata": {},
   "outputs": [],
   "source": [
    "from sklearn.decomposition import NMF\n",
    "nmf_model = NMF(5)\n",
    "doc_topic = nmf_model.fit_transform(tf_result)"
   ]
  },
  {
   "cell_type": "code",
   "execution_count": 76,
   "metadata": {},
   "outputs": [
    {
     "name": "stdout",
     "output_type": "stream",
     "text": [
      "\n",
      "Topic  0\n",
      "dont, time, one, never, like, come, away, want, ive, day\n",
      "\n",
      "Topic  1\n",
      "love, love love, know love, heart, need, love dont, true, give, love like, love know\n",
      "\n",
      "Topic  2\n",
      "baby, baby baby, want, dont, girl, baby dont, come, love baby, need, baby love\n",
      "\n",
      "Topic  3\n",
      "hey, hey hey, alright, girl, hey dont, hey baby, ra, hey little, little, right\n",
      "\n",
      "Topic  4\n",
      "nigga, bitch, like, shit, fuck, money, dont, cause, uh, thats\n"
     ]
    }
   ],
   "source": [
    "display_topics(nmf_model, nlp.vectorizer.get_feature_names(), 10)"
   ]
  },
  {
   "cell_type": "markdown",
   "metadata": {},
   "source": [
    "## Try Porter stemmer"
   ]
  },
  {
   "cell_type": "code",
   "execution_count": 139,
   "metadata": {},
   "outputs": [],
   "source": [
    "from sklearn.feature_extraction.text import CountVectorizer\n",
    "import pickle \n",
    "from nltk.tokenize import TreebankWordTokenizer\n",
    "from autocorrect import Speller\n",
    "from nltk.stem import PorterStemmer\n",
    "\n",
    "class NLPPipe:\n",
    "   \n",
    "    def __init__(self, vectorizer=CountVectorizer(), tokenizer=None, cleaning_function=None, \n",
    "                 stemmer=None,model=None):\n",
    "        if not tokenizer:\n",
    "            tokenizer = self.splitter\n",
    "        if not cleaning_function:\n",
    "            cleaning_function = self.clean_text\n",
    "        self.stemmer = stemmer\n",
    "        self.tokenizer = tokenizer\n",
    "        self.model = model\n",
    "        self.cleaning_function = cleaning_function\n",
    "        self.vectorizer = vectorizer\n",
    "        self._is_fit = False\n",
    "        \n",
    "    def splitter(self, text):\n",
    "        return text.split(' ')\n",
    "        \n",
    " \n",
    "    \n",
    "    def fit_transform(self, text):\n",
    "        clean_text = self.cleaning_function(text, self.tokenizer, self.stemmer)\n",
    "        return self.vectorizer.fit_transform(clean_text)"
   ]
  },
  {
   "cell_type": "code",
   "execution_count": 140,
   "metadata": {},
   "outputs": [],
   "source": [
    "def clean_text(text, tokenizer, stemmer):\n",
    "        text=text.str.replace(r'\\d+','')\n",
    "        text=text.replace(r'[^A-Za-z0-9 ]+', '', regex=True)\n",
    "        cleaned_text = []\n",
    "        for post in text:\n",
    "            cleaned_words = []\n",
    "            for word in tokenizer(post):\n",
    "                low_word = word.lower()\n",
    "                if stemmer:\n",
    "                    low_word = stemmer.stem(low_word)\n",
    "                    #low_word = speller(low_word)\n",
    "                cleaned_words.append(low_word)\n",
    "            cleaned_text.append(' '.join(cleaned_words))\n",
    "        return cleaned_text"
   ]
  },
  {
   "cell_type": "code",
   "execution_count": 90,
   "metadata": {},
   "outputs": [],
   "source": [
    "nlp = NLPPipe(vectorizer=CountVectorizer(stop_words = stop_words,min_df=0.01,ngram_range=(1,2)), \n",
    "              cleaning_function=clean_text, \n",
    "              tokenizer=TreebankWordTokenizer().tokenize,\n",
    "              stemmer = PorterStemmer())\n",
    "\n",
    "count_result = nlp.fit_transform(corpus)"
   ]
  },
  {
   "cell_type": "code",
   "execution_count": 91,
   "metadata": {},
   "outputs": [],
   "source": [
    "nmf_model = NMF(5)\n",
    "doc_topic = nmf_model.fit_transform(count_result)"
   ]
  },
  {
   "cell_type": "code",
   "execution_count": 92,
   "metadata": {},
   "outputs": [
    {
     "name": "stdout",
     "output_type": "stream",
     "text": [
      "\n",
      "Topic  0\n",
      "thi, time, one, come, day, like, never, night, away, life\n",
      "\n",
      "Topic  1\n",
      "love, love love, heart, true, need, feel, give, fall love, know love, love like\n",
      "\n",
      "Topic  2\n",
      "nigga, like, bitch, fuck, shit, thi, ass, money, caus, back\n",
      "\n",
      "Topic  3\n",
      "babi, babi babi, hey, girl, come, hey hey, littl, love babi, babi dont, good\n",
      "\n",
      "Topic  4\n",
      "dont, know, want, dont know, need, dont want, whi, caus, think, girl\n"
     ]
    }
   ],
   "source": [
    "display_topics(nmf_model, nlp.vectorizer.get_feature_names(), 10)"
   ]
  },
  {
   "cell_type": "code",
   "execution_count": 93,
   "metadata": {},
   "outputs": [
    {
     "name": "stdout",
     "output_type": "stream",
     "text": [
      "\n",
      "Topic  0\n",
      "hi, man, one, thi, like, said, dont, know, old, time\n",
      "\n",
      "Topic  1\n",
      "love, know, dont, never, time, thi, feel, heart, want, one\n",
      "\n",
      "Topic  2\n",
      "love, away, come, night, light, dream, like, thi, day, eye\n",
      "\n",
      "Topic  3\n",
      "babi, hey, love, girl, want, come, dont, littl, know, good\n",
      "\n",
      "Topic  4\n",
      "nigga, like, fuck, bitch, shit, dont, thi, know, caus, back\n"
     ]
    }
   ],
   "source": [
    "lda_count = LatentDirichletAllocation(n_components=5, random_state=0)\n",
    "lda_count.fit(tf_result)\n",
    "display_topics(lda_count, nlp.vectorizer.get_feature_names(), 10)"
   ]
  },
  {
   "cell_type": "markdown",
   "metadata": {},
   "source": [
    "## Ngrams seem to be pretty repetitive will not use them"
   ]
  },
  {
   "cell_type": "code",
   "execution_count": 94,
   "metadata": {},
   "outputs": [],
   "source": [
    "nlp = NLPPipe(vectorizer=CountVectorizer(stop_words = stop_words,min_df=0.01), \n",
    "              cleaning_function=clean_text, \n",
    "              tokenizer=TreebankWordTokenizer().tokenize,\n",
    "              stemmer = PorterStemmer())\n",
    "\n",
    "count_result = nlp.fit_transform(corpus)"
   ]
  },
  {
   "cell_type": "code",
   "execution_count": 111,
   "metadata": {},
   "outputs": [],
   "source": [
    "nmf_model = NMF(5)\n",
    "doc_topic = nmf_model.fit_transform(count_result)"
   ]
  },
  {
   "cell_type": "code",
   "execution_count": 112,
   "metadata": {},
   "outputs": [
    {
     "name": "stdout",
     "output_type": "stream",
     "text": [
      "\n",
      "Topic  0\n",
      "time, thi, one, come, day, never, like, night, away, life\n",
      "\n",
      "Topic  1\n",
      "love, heart, true, need, give, feel, fall, never, kiss, alway\n",
      "\n",
      "Topic  2\n",
      "babi, girl, hey, come, littl, good, right, like, tonight, babe\n",
      "\n",
      "Topic  3\n",
      "nigga, like, bitch, fuck, shit, thi, ass, money, caus, back\n",
      "\n",
      "Topic  4\n",
      "dont, know, want, need, whi, caus, think, girl, tri, care\n"
     ]
    }
   ],
   "source": [
    "display_topics(nmf_model, nlp.vectorizer.get_feature_names(), 10)"
   ]
  },
  {
   "cell_type": "code",
   "execution_count": 113,
   "metadata": {},
   "outputs": [
    {
     "name": "stdout",
     "output_type": "stream",
     "text": [
      "\n",
      "Topic  0\n",
      "dont, know, time, thi, love, never, ive, like, feel, think\n",
      "\n",
      "Topic  1\n",
      "love, heart, know, babi, dont, never, one, dream, thi, time\n",
      "\n",
      "Topic  2\n",
      "man, hi, dont, old, like, come, back, rock, said, one\n",
      "\n",
      "Topic  3\n",
      "nigga, like, fuck, bitch, shit, dont, thi, know, caus, back\n",
      "\n",
      "Topic  4\n",
      "love, come, thi, like, light, night, day, away, sky, eye\n",
      "\n",
      "Topic  5\n",
      "babi, love, dont, hey, girl, want, know, like, come, good\n"
     ]
    }
   ],
   "source": [
    "lda_count = LatentDirichletAllocation(n_components=6, random_state=0)\n",
    "lda_count.fit(count_result)\n",
    "display_topics(lda_tf, nlp.vectorizer.get_feature_names(), 10)"
   ]
  },
  {
   "cell_type": "markdown",
   "metadata": {},
   "source": [
    " ## Topics pretty clear will try genism"
   ]
  },
  {
   "cell_type": "code",
   "execution_count": 127,
   "metadata": {},
   "outputs": [
    {
     "data": {
      "text/plain": [
       "array([[0.        , 0.        , 0.        , ..., 0.        , 0.        ,\n",
       "        0.        ],\n",
       "       [0.        , 0.        , 0.        , ..., 0.        , 0.        ,\n",
       "        0.        ],\n",
       "       [0.        , 0.        , 0.        , ..., 0.03333985, 0.        ,\n",
       "        0.        ],\n",
       "       ...,\n",
       "       [0.        , 0.        , 0.        , ..., 0.        , 0.        ,\n",
       "        0.        ],\n",
       "       [0.        , 0.        , 0.        , ..., 0.        , 0.        ,\n",
       "        0.        ],\n",
       "       [0.        , 0.        , 0.        , ..., 0.        , 0.        ,\n",
       "        0.        ]])"
      ]
     },
     "execution_count": 127,
     "metadata": {},
     "output_type": "execute_result"
    }
   ],
   "source": [
    "count_result.T.toarray()"
   ]
  },
  {
   "cell_type": "code",
   "execution_count": 128,
   "metadata": {},
   "outputs": [],
   "source": [
    "from gensim import interfaces, utils, matutils\n",
    "corpus = matutils.Sparse2Corpus(count_result.T)\n",
    "id2word = dict((v, k) for k, v in nlp.vectorizer.vocabulary_.items())"
   ]
  },
  {
   "cell_type": "code",
   "execution_count": 129,
   "metadata": {},
   "outputs": [],
   "source": [
    "import gensim\n",
    "import gensim.corpora as corpora\n",
    "from gensim import interfaces, utils, matutils\n",
    "\n",
    "corpus = matutils.Sparse2Corpus(count_result.transpose())\n",
    "id2word = dict((v, k) for k, v in nlp.vectorizer.vocabulary_.items())\n",
    "\n",
    "lda_genism = gensim.models.ldamodel.LdaModel(corpus=corpus,\n",
    "                                           id2word=id2word,\n",
    "                                           num_topics=6, \n",
    "                                           random_state=0)"
   ]
  },
  {
   "cell_type": "code",
   "execution_count": 130,
   "metadata": {},
   "outputs": [
    {
     "data": {
      "text/plain": [
       "[(0,\n",
       "  '0.019*\"love\" + 0.012*\"know\" + 0.011*\"dont\" + 0.009*\"time\" + 0.009*\"never\" + 0.008*\"thi\" + 0.007*\"heart\" + 0.007*\"feel\" + 0.007*\"one\" + 0.007*\"want\"'),\n",
       " (1,\n",
       "  '0.015*\"love\" + 0.011*\"dont\" + 0.011*\"know\" + 0.007*\"ive\" + 0.007*\"babi\" + 0.007*\"want\" + 0.007*\"time\" + 0.006*\"live\" + 0.006*\"one\" + 0.006*\"world\"'),\n",
       " (2,\n",
       "  '0.008*\"thi\" + 0.007*\"fire\" + 0.007*\"take\" + 0.007*\"dont\" + 0.007*\"run\" + 0.006*\"like\" + 0.006*\"burn\" + 0.006*\"one\" + 0.006*\"know\" + 0.006*\"life\"'),\n",
       " (3,\n",
       "  '0.012*\"like\" + 0.012*\"nigga\" + 0.008*\"dont\" + 0.008*\"fuck\" + 0.007*\"know\" + 0.007*\"thi\" + 0.007*\"bitch\" + 0.007*\"shit\" + 0.006*\"back\" + 0.006*\"man\"'),\n",
       " (4,\n",
       "  '0.008*\"love\" + 0.007*\"come\" + 0.007*\"hi\" + 0.006*\"day\" + 0.006*\"night\" + 0.006*\"away\" + 0.005*\"rain\" + 0.005*\"dream\" + 0.005*\"light\" + 0.005*\"sun\"'),\n",
       " (5,\n",
       "  '0.030*\"babi\" + 0.025*\"love\" + 0.015*\"girl\" + 0.015*\"dont\" + 0.014*\"hey\" + 0.013*\"want\" + 0.012*\"know\" + 0.010*\"come\" + 0.009*\"like\" + 0.009*\"littl\"')]"
      ]
     },
     "execution_count": 130,
     "metadata": {},
     "output_type": "execute_result"
    }
   ],
   "source": [
    "lda_genism.print_topics()"
   ]
  },
  {
   "cell_type": "markdown",
   "metadata": {},
   "source": [
    "## Try a tSne plot on lda w/o genism"
   ]
  },
  {
   "cell_type": "code",
   "execution_count": 107,
   "metadata": {},
   "outputs": [
    {
     "data": {
      "text/plain": [
       "array([[0.83357543, 0.03327575, 0.03336938, 0.03319872, 0.03328766,\n",
       "        0.03329305],\n",
       "       [0.85990578, 0.02803122, 0.02792066, 0.02816411, 0.02797633,\n",
       "        0.02800189],\n",
       "       [0.82548606, 0.03490305, 0.03506052, 0.03478598, 0.03473165,\n",
       "        0.03503274],\n",
       "       ...,\n",
       "       [0.02942617, 0.02945572, 0.85254493, 0.02938972, 0.02944043,\n",
       "        0.02974304],\n",
       "       [0.03361454, 0.03365927, 0.03364959, 0.03358585, 0.83191659,\n",
       "        0.03357415],\n",
       "       [0.05251138, 0.05269245, 0.05246349, 0.05254272, 0.05235973,\n",
       "        0.73743023]])"
      ]
     },
     "execution_count": 107,
     "metadata": {},
     "output_type": "execute_result"
    }
   ],
   "source": [
    "topic_values = lda_count.transform(count_result)\n",
    "topic_values"
   ]
  },
  {
   "cell_type": "code",
   "execution_count": 109,
   "metadata": {},
   "outputs": [],
   "source": [
    "\n",
    "df = pd.DataFrame(topic_values.round(5),\n",
    "             index = music_df.name,\n",
    "             columns = [\"topic_1\",\"topic_2\",\"topic_3\",'topic_4','topic_5',\\\n",
    "                       'topic_6'])"
   ]
  },
  {
   "cell_type": "code",
   "execution_count": 110,
   "metadata": {},
   "outputs": [
    {
     "data": {
      "text/html": [
       "<div>\n",
       "<style scoped>\n",
       "    .dataframe tbody tr th:only-of-type {\n",
       "        vertical-align: middle;\n",
       "    }\n",
       "\n",
       "    .dataframe tbody tr th {\n",
       "        vertical-align: top;\n",
       "    }\n",
       "\n",
       "    .dataframe thead th {\n",
       "        text-align: right;\n",
       "    }\n",
       "</style>\n",
       "<table border=\"1\" class=\"dataframe\">\n",
       "  <thead>\n",
       "    <tr style=\"text-align: right;\">\n",
       "      <th></th>\n",
       "      <th>topic_1</th>\n",
       "      <th>topic_2</th>\n",
       "      <th>topic_3</th>\n",
       "      <th>topic_4</th>\n",
       "      <th>topic_5</th>\n",
       "      <th>topic_6</th>\n",
       "    </tr>\n",
       "    <tr>\n",
       "      <th>name</th>\n",
       "      <th></th>\n",
       "      <th></th>\n",
       "      <th></th>\n",
       "      <th></th>\n",
       "      <th></th>\n",
       "      <th></th>\n",
       "    </tr>\n",
       "  </thead>\n",
       "  <tbody>\n",
       "    <tr>\n",
       "      <th>I Can't See Your Face in My Mind</th>\n",
       "      <td>0.83358</td>\n",
       "      <td>0.03328</td>\n",
       "      <td>0.03337</td>\n",
       "      <td>0.03320</td>\n",
       "      <td>0.03329</td>\n",
       "      <td>0.03329</td>\n",
       "    </tr>\n",
       "    <tr>\n",
       "      <th>I Could Have Lied</th>\n",
       "      <td>0.85991</td>\n",
       "      <td>0.02803</td>\n",
       "      <td>0.02792</td>\n",
       "      <td>0.02816</td>\n",
       "      <td>0.02798</td>\n",
       "      <td>0.02800</td>\n",
       "    </tr>\n",
       "    <tr>\n",
       "      <th>The Letter - Mono Single Version</th>\n",
       "      <td>0.82549</td>\n",
       "      <td>0.03490</td>\n",
       "      <td>0.03506</td>\n",
       "      <td>0.03479</td>\n",
       "      <td>0.03473</td>\n",
       "      <td>0.03503</td>\n",
       "    </tr>\n",
       "    <tr>\n",
       "      <th>Promises - Skrillex &amp; Nero Remix</th>\n",
       "      <td>0.76080</td>\n",
       "      <td>0.04802</td>\n",
       "      <td>0.04768</td>\n",
       "      <td>0.04766</td>\n",
       "      <td>0.04794</td>\n",
       "      <td>0.04790</td>\n",
       "    </tr>\n",
       "    <tr>\n",
       "      <th>Oh No, Babe</th>\n",
       "      <td>0.02632</td>\n",
       "      <td>0.02628</td>\n",
       "      <td>0.02645</td>\n",
       "      <td>0.86825</td>\n",
       "      <td>0.02638</td>\n",
       "      <td>0.02632</td>\n",
       "    </tr>\n",
       "    <tr>\n",
       "      <th>...</th>\n",
       "      <td>...</td>\n",
       "      <td>...</td>\n",
       "      <td>...</td>\n",
       "      <td>...</td>\n",
       "      <td>...</td>\n",
       "      <td>...</td>\n",
       "    </tr>\n",
       "    <tr>\n",
       "      <th>I've Been Loving You Too Long - Live in Europe; 2008 Remaster</th>\n",
       "      <td>0.02458</td>\n",
       "      <td>0.51326</td>\n",
       "      <td>0.02454</td>\n",
       "      <td>0.02452</td>\n",
       "      <td>0.02456</td>\n",
       "      <td>0.38854</td>\n",
       "    </tr>\n",
       "    <tr>\n",
       "      <th>Fazers</th>\n",
       "      <td>0.01748</td>\n",
       "      <td>0.01746</td>\n",
       "      <td>0.01750</td>\n",
       "      <td>0.77963</td>\n",
       "      <td>0.15048</td>\n",
       "      <td>0.01744</td>\n",
       "    </tr>\n",
       "    <tr>\n",
       "      <th>Wolfman Jack</th>\n",
       "      <td>0.02943</td>\n",
       "      <td>0.02946</td>\n",
       "      <td>0.85254</td>\n",
       "      <td>0.02939</td>\n",
       "      <td>0.02944</td>\n",
       "      <td>0.02974</td>\n",
       "    </tr>\n",
       "    <tr>\n",
       "      <th>I Burn For You - Live In Arnhem</th>\n",
       "      <td>0.03361</td>\n",
       "      <td>0.03366</td>\n",
       "      <td>0.03365</td>\n",
       "      <td>0.03359</td>\n",
       "      <td>0.83192</td>\n",
       "      <td>0.03357</td>\n",
       "    </tr>\n",
       "    <tr>\n",
       "      <th>Love, The Time Is Now</th>\n",
       "      <td>0.05251</td>\n",
       "      <td>0.05269</td>\n",
       "      <td>0.05246</td>\n",
       "      <td>0.05254</td>\n",
       "      <td>0.05236</td>\n",
       "      <td>0.73743</td>\n",
       "    </tr>\n",
       "  </tbody>\n",
       "</table>\n",
       "<p>30000 rows × 6 columns</p>\n",
       "</div>"
      ],
      "text/plain": [
       "                                                    topic_1  topic_2  topic_3  \\\n",
       "name                                                                            \n",
       "I Can't See Your Face in My Mind                    0.83358  0.03328  0.03337   \n",
       "I Could Have Lied                                   0.85991  0.02803  0.02792   \n",
       "The Letter - Mono Single Version                    0.82549  0.03490  0.03506   \n",
       "Promises - Skrillex & Nero Remix                    0.76080  0.04802  0.04768   \n",
       "Oh No, Babe                                         0.02632  0.02628  0.02645   \n",
       "...                                                     ...      ...      ...   \n",
       "I've Been Loving You Too Long - Live in Europe;...  0.02458  0.51326  0.02454   \n",
       "Fazers                                              0.01748  0.01746  0.01750   \n",
       "Wolfman Jack                                        0.02943  0.02946  0.85254   \n",
       "I Burn For You - Live In Arnhem                     0.03361  0.03366  0.03365   \n",
       "Love, The Time Is Now                               0.05251  0.05269  0.05246   \n",
       "\n",
       "                                                    topic_4  topic_5  topic_6  \n",
       "name                                                                           \n",
       "I Can't See Your Face in My Mind                    0.03320  0.03329  0.03329  \n",
       "I Could Have Lied                                   0.02816  0.02798  0.02800  \n",
       "The Letter - Mono Single Version                    0.03479  0.03473  0.03503  \n",
       "Promises - Skrillex & Nero Remix                    0.04766  0.04794  0.04790  \n",
       "Oh No, Babe                                         0.86825  0.02638  0.02632  \n",
       "...                                                     ...      ...      ...  \n",
       "I've Been Loving You Too Long - Live in Europe;...  0.02452  0.02456  0.38854  \n",
       "Fazers                                              0.77963  0.15048  0.01744  \n",
       "Wolfman Jack                                        0.02939  0.02944  0.02974  \n",
       "I Burn For You - Live In Arnhem                     0.03359  0.83192  0.03357  \n",
       "Love, The Time Is Now                               0.05254  0.05236  0.73743  \n",
       "\n",
       "[30000 rows x 6 columns]"
      ]
     },
     "execution_count": 110,
     "metadata": {},
     "output_type": "execute_result"
    }
   ],
   "source": [
    "df"
   ]
  },
  {
   "cell_type": "code",
   "execution_count": 142,
   "metadata": {},
   "outputs": [],
   "source": [
    "maxValues = df.idxmax(axis=1)"
   ]
  },
  {
   "cell_type": "code",
   "execution_count": 143,
   "metadata": {},
   "outputs": [],
   "source": [
    "dfdf['dominant_topic'] = maxValues"
   ]
  },
  {
   "cell_type": "code",
   "execution_count": 144,
   "metadata": {},
   "outputs": [
    {
     "data": {
      "text/plain": [
       "<AxesSubplot:>"
      ]
     },
     "execution_count": 144,
     "metadata": {},
     "output_type": "execute_result"
    },
    {
     "data": {
      "image/png": "[encoded data removed]",
      "text/plain": [
       "<Figure size 432x288 with 1 Axes>"
      ]
     },
     "metadata": {
      "needs_background": "light"
     },
     "output_type": "display_data"
    }
   ],
   "source": [
    "df['dominant_topic'].value_counts().plot(kind='bar')"
   ]
  },
  {
   "cell_type": "code",
   "execution_count": 174,
   "metadata": {},
   "outputs": [],
   "source": [
    "X= df[['topic_1','topic_2','topic_3','topic_4','topic_5','topic_6']]"
   ]
  },
  {
   "cell_type": "code",
   "execution_count": 175,
   "metadata": {},
   "outputs": [],
   "source": [
    "target = df.dominant_topic"
   ]
  },
  {
   "cell_type": "code",
   "execution_count": 176,
   "metadata": {},
   "outputs": [],
   "source": [
    "target_name = list(target.unique())"
   ]
  },
  {
   "cell_type": "code",
   "execution_count": 177,
   "metadata": {},
   "outputs": [],
   "source": [
    "from sklearn.manifold import TSNE\n",
    "tsne_model = TSNE(n_components=2, random_state=42)\n",
    "tsne_data = tsne_model.fit_transform(X)"
   ]
  },
  {
   "cell_type": "code",
   "execution_count": 178,
   "metadata": {},
   "outputs": [],
   "source": [
    "def plot_tsne(data, target, target_names):\n",
    "    color=[\"yellow\", \"forestgreen\", \"skyblue\", \"royalblue\", \"black\", \"red\", \"purple\"]\n",
    "    for c, label in zip(color, target_names):\n",
    "        plt.scatter(data[target == label, 0], data[target == label, 1], c=c, label=label, s=0.4, alpha=0.5)\n",
    "    plt.legend(fontsize=6, loc='upper left', frameon=True, facecolor='#FFFFFF', edgecolor='#333333')\n",
    "    plt.xlim(-100,100)\n",
    "    plt.grid(b=None);"
   ]
  },
  {
   "cell_type": "code",
   "execution_count": 179,
   "metadata": {},
   "outputs": [
    {
     "data": {
      "image/png": "[encoded data removed]",
      "text/plain": [
       "<Figure size 432x288 with 1 Axes>"
      ]
     },
     "metadata": {
      "needs_background": "light"
     },
     "output_type": "display_data"
    }
   ],
   "source": [
    "plot_tsne(tsne_data,target,target_name)"
   ]
  },
  {
   "cell_type": "markdown",
   "metadata": {},
   "source": [
    "## LDA w/genism"
   ]
  },
  {
   "cell_type": "code",
   "execution_count": 131,
   "metadata": {},
   "outputs": [],
   "source": [
    "doc_topic = [lda_genism.get_document_topics(item) for item in corpus]"
   ]
  },
  {
   "cell_type": "code",
   "execution_count": 132,
   "metadata": {},
   "outputs": [],
   "source": [
    "topic_dicts = [dict(doc) for doc in doc_topic]"
   ]
  },
  {
   "cell_type": "code",
   "execution_count": 133,
   "metadata": {},
   "outputs": [],
   "source": [
    "gen_df = pd.DataFrame(topic_dicts,\n",
    "             index = music_df.name)\n",
    "gen_df = gen_df.fillna(0)"
   ]
  },
  {
   "cell_type": "code",
   "execution_count": 134,
   "metadata": {},
   "outputs": [
    {
     "data": {
      "text/html": [
       "<div>\n",
       "<style scoped>\n",
       "    .dataframe tbody tr th:only-of-type {\n",
       "        vertical-align: middle;\n",
       "    }\n",
       "\n",
       "    .dataframe tbody tr th {\n",
       "        vertical-align: top;\n",
       "    }\n",
       "\n",
       "    .dataframe thead th {\n",
       "        text-align: right;\n",
       "    }\n",
       "</style>\n",
       "<table border=\"1\" class=\"dataframe\">\n",
       "  <thead>\n",
       "    <tr style=\"text-align: right;\">\n",
       "      <th></th>\n",
       "      <th>0</th>\n",
       "      <th>1</th>\n",
       "      <th>2</th>\n",
       "      <th>3</th>\n",
       "      <th>4</th>\n",
       "      <th>5</th>\n",
       "    </tr>\n",
       "    <tr>\n",
       "      <th>name</th>\n",
       "      <th></th>\n",
       "      <th></th>\n",
       "      <th></th>\n",
       "      <th></th>\n",
       "      <th></th>\n",
       "      <th></th>\n",
       "    </tr>\n",
       "  </thead>\n",
       "  <tbody>\n",
       "    <tr>\n",
       "      <th>I Can't See Your Face in My Mind</th>\n",
       "      <td>0.832165</td>\n",
       "      <td>0.033277</td>\n",
       "      <td>0.033509</td>\n",
       "      <td>0.033871</td>\n",
       "      <td>0.033897</td>\n",
       "      <td>0.033282</td>\n",
       "    </tr>\n",
       "    <tr>\n",
       "      <th>I Could Have Lied</th>\n",
       "      <td>0.859320</td>\n",
       "      <td>0.028029</td>\n",
       "      <td>0.028148</td>\n",
       "      <td>0.028514</td>\n",
       "      <td>0.027977</td>\n",
       "      <td>0.028012</td>\n",
       "    </tr>\n",
       "    <tr>\n",
       "      <th>The Letter - Mono Single Version</th>\n",
       "      <td>0.034890</td>\n",
       "      <td>0.825812</td>\n",
       "      <td>0.034713</td>\n",
       "      <td>0.034809</td>\n",
       "      <td>0.034879</td>\n",
       "      <td>0.034897</td>\n",
       "    </tr>\n",
       "    <tr>\n",
       "      <th>Promises - Skrillex &amp; Nero Remix</th>\n",
       "      <td>0.760943</td>\n",
       "      <td>0.047719</td>\n",
       "      <td>0.047973</td>\n",
       "      <td>0.047690</td>\n",
       "      <td>0.047856</td>\n",
       "      <td>0.047819</td>\n",
       "    </tr>\n",
       "    <tr>\n",
       "      <th>Oh No, Babe</th>\n",
       "      <td>0.026259</td>\n",
       "      <td>0.026292</td>\n",
       "      <td>0.026313</td>\n",
       "      <td>0.868528</td>\n",
       "      <td>0.026327</td>\n",
       "      <td>0.026282</td>\n",
       "    </tr>\n",
       "    <tr>\n",
       "      <th>...</th>\n",
       "      <td>...</td>\n",
       "      <td>...</td>\n",
       "      <td>...</td>\n",
       "      <td>...</td>\n",
       "      <td>...</td>\n",
       "      <td>...</td>\n",
       "    </tr>\n",
       "    <tr>\n",
       "      <th>I've Been Loving You Too Long - Live in Europe; 2008 Remaster</th>\n",
       "      <td>0.024652</td>\n",
       "      <td>0.024639</td>\n",
       "      <td>0.024603</td>\n",
       "      <td>0.024519</td>\n",
       "      <td>0.024569</td>\n",
       "      <td>0.877018</td>\n",
       "    </tr>\n",
       "    <tr>\n",
       "      <th>Fazers</th>\n",
       "      <td>0.017470</td>\n",
       "      <td>0.017487</td>\n",
       "      <td>0.017534</td>\n",
       "      <td>0.912493</td>\n",
       "      <td>0.017589</td>\n",
       "      <td>0.017426</td>\n",
       "    </tr>\n",
       "    <tr>\n",
       "      <th>Wolfman Jack</th>\n",
       "      <td>0.029435</td>\n",
       "      <td>0.029412</td>\n",
       "      <td>0.029518</td>\n",
       "      <td>0.597259</td>\n",
       "      <td>0.029682</td>\n",
       "      <td>0.284693</td>\n",
       "    </tr>\n",
       "    <tr>\n",
       "      <th>I Burn For You - Live In Arnhem</th>\n",
       "      <td>0.033655</td>\n",
       "      <td>0.033566</td>\n",
       "      <td>0.033826</td>\n",
       "      <td>0.033596</td>\n",
       "      <td>0.831740</td>\n",
       "      <td>0.033617</td>\n",
       "    </tr>\n",
       "    <tr>\n",
       "      <th>Love, The Time Is Now</th>\n",
       "      <td>0.052529</td>\n",
       "      <td>0.052582</td>\n",
       "      <td>0.052330</td>\n",
       "      <td>0.052536</td>\n",
       "      <td>0.052375</td>\n",
       "      <td>0.737649</td>\n",
       "    </tr>\n",
       "  </tbody>\n",
       "</table>\n",
       "<p>30000 rows × 6 columns</p>\n",
       "</div>"
      ],
      "text/plain": [
       "                                                           0         1  \\\n",
       "name                                                                     \n",
       "I Can't See Your Face in My Mind                    0.832165  0.033277   \n",
       "I Could Have Lied                                   0.859320  0.028029   \n",
       "The Letter - Mono Single Version                    0.034890  0.825812   \n",
       "Promises - Skrillex & Nero Remix                    0.760943  0.047719   \n",
       "Oh No, Babe                                         0.026259  0.026292   \n",
       "...                                                      ...       ...   \n",
       "I've Been Loving You Too Long - Live in Europe;...  0.024652  0.024639   \n",
       "Fazers                                              0.017470  0.017487   \n",
       "Wolfman Jack                                        0.029435  0.029412   \n",
       "I Burn For You - Live In Arnhem                     0.033655  0.033566   \n",
       "Love, The Time Is Now                               0.052529  0.052582   \n",
       "\n",
       "                                                           2         3  \\\n",
       "name                                                                     \n",
       "I Can't See Your Face in My Mind                    0.033509  0.033871   \n",
       "I Could Have Lied                                   0.028148  0.028514   \n",
       "The Letter - Mono Single Version                    0.034713  0.034809   \n",
       "Promises - Skrillex & Nero Remix                    0.047973  0.047690   \n",
       "Oh No, Babe                                         0.026313  0.868528   \n",
       "...                                                      ...       ...   \n",
       "I've Been Loving You Too Long - Live in Europe;...  0.024603  0.024519   \n",
       "Fazers                                              0.017534  0.912493   \n",
       "Wolfman Jack                                        0.029518  0.597259   \n",
       "I Burn For You - Live In Arnhem                     0.033826  0.033596   \n",
       "Love, The Time Is Now                               0.052330  0.052536   \n",
       "\n",
       "                                                           4         5  \n",
       "name                                                                    \n",
       "I Can't See Your Face in My Mind                    0.033897  0.033282  \n",
       "I Could Have Lied                                   0.027977  0.028012  \n",
       "The Letter - Mono Single Version                    0.034879  0.034897  \n",
       "Promises - Skrillex & Nero Remix                    0.047856  0.047819  \n",
       "Oh No, Babe                                         0.026327  0.026282  \n",
       "...                                                      ...       ...  \n",
       "I've Been Loving You Too Long - Live in Europe;...  0.024569  0.877018  \n",
       "Fazers                                              0.017589  0.017426  \n",
       "Wolfman Jack                                        0.029682  0.284693  \n",
       "I Burn For You - Live In Arnhem                     0.831740  0.033617  \n",
       "Love, The Time Is Now                               0.052375  0.737649  \n",
       "\n",
       "[30000 rows x 6 columns]"
      ]
     },
     "execution_count": 134,
     "metadata": {},
     "output_type": "execute_result"
    }
   ],
   "source": [
    "gen_df"
   ]
  },
  {
   "cell_type": "code",
   "execution_count": 136,
   "metadata": {},
   "outputs": [],
   "source": [
    "gen_df.rename(columns={0:'topic_1',1:'topic_2',2:'topic_3',3:'topic_4',4:'topic_5',5:'topic_6'},inplace=True)"
   ]
  },
  {
   "cell_type": "code",
   "execution_count": 137,
   "metadata": {},
   "outputs": [],
   "source": [
    "maxValues = gen_df.idxmax(axis=1)"
   ]
  },
  {
   "cell_type": "code",
   "execution_count": 139,
   "metadata": {},
   "outputs": [],
   "source": [
    "gen_df['dominant_topic'] = maxValues"
   ]
  },
  {
   "cell_type": "code",
   "execution_count": 141,
   "metadata": {},
   "outputs": [
    {
     "data": {
      "text/plain": [
       "<AxesSubplot:>"
      ]
     },
     "execution_count": 141,
     "metadata": {},
     "output_type": "execute_result"
    },
    {
     "data": {
      "image/png": "[encoded data removed]",
      "text/plain": [
       "<Figure size 432x288 with 1 Axes>"
      ]
     },
     "metadata": {
      "needs_background": "light"
     },
     "output_type": "display_data"
    }
   ],
   "source": [
    "gen_df['dominant_topic'].value_counts().plot(kind='bar')"
   ]
  },
  {
   "cell_type": "code",
   "execution_count": 190,
   "metadata": {},
   "outputs": [],
   "source": [
    "X= gen_df[['topic_1','topic_2','topic_3','topic_4','topic_5','topic_6']]"
   ]
  },
  {
   "cell_type": "code",
   "execution_count": 191,
   "metadata": {},
   "outputs": [],
   "source": [
    "tsne_model = TSNE(n_components=2,perplexity=50, random_state=42)\n",
    "tsne_data = tsne_model.fit_transform(X)"
   ]
  },
  {
   "cell_type": "code",
   "execution_count": 192,
   "metadata": {},
   "outputs": [],
   "source": [
    "target = gen_df.dominant_topic"
   ]
  },
  {
   "cell_type": "code",
   "execution_count": 193,
   "metadata": {},
   "outputs": [],
   "source": [
    "target_name = list(target.unique())"
   ]
  },
  {
   "cell_type": "code",
   "execution_count": 194,
   "metadata": {},
   "outputs": [
    {
     "data": {
      "image/png": "[encoded data removed]",
      "text/plain": [
       "<Figure size 432x288 with 1 Axes>"
      ]
     },
     "metadata": {
      "needs_background": "light"
     },
     "output_type": "display_data"
    }
   ],
   "source": [
    "plot_tsne(tsne_data,target,target_name)"
   ]
  },
  {
   "cell_type": "code",
   "execution_count": 161,
   "metadata": {},
   "outputs": [
    {
     "data": {
      "text/plain": [
       "'Now that i have found you In the coolth of your evening smile The shade of your parasol And your love flows through me Though i drink at your pool I burn for you, i burn for You and i are lovers When night time folds around our bed In peace we sleep entwined And your love flows through me Though an ocean soothes my head I burn for you, i burn for Stars will fall from dark skies As ancient rocks are turning Quiet fills the room And your love flows through me Though i lie here so still I burn for you, i burn for you I burn'"
      ]
     },
     "execution_count": 161,
     "metadata": {},
     "output_type": "execute_result"
    }
   ],
   "source": [
    "music_df[music_df['name']=='I Burn For You - Live In Arnhem']['lyrics'].item()"
   ]
  },
  {
   "cell_type": "code",
   "execution_count": 162,
   "metadata": {},
   "outputs": [
    {
     "data": {
      "text/html": [
       "<div>\n",
       "<style scoped>\n",
       "    .dataframe tbody tr th:only-of-type {\n",
       "        vertical-align: middle;\n",
       "    }\n",
       "\n",
       "    .dataframe tbody tr th {\n",
       "        vertical-align: top;\n",
       "    }\n",
       "\n",
       "    .dataframe thead th {\n",
       "        text-align: right;\n",
       "    }\n",
       "</style>\n",
       "<table border=\"1\" class=\"dataframe\">\n",
       "  <thead>\n",
       "    <tr style=\"text-align: right;\">\n",
       "      <th></th>\n",
       "      <th>topic_1</th>\n",
       "      <th>topic_2</th>\n",
       "      <th>topic_3</th>\n",
       "      <th>topic_4</th>\n",
       "      <th>topic_5</th>\n",
       "      <th>topic_6</th>\n",
       "      <th>dominant_topic</th>\n",
       "    </tr>\n",
       "    <tr>\n",
       "      <th>name</th>\n",
       "      <th></th>\n",
       "      <th></th>\n",
       "      <th></th>\n",
       "      <th></th>\n",
       "      <th></th>\n",
       "      <th></th>\n",
       "      <th></th>\n",
       "    </tr>\n",
       "  </thead>\n",
       "  <tbody>\n",
       "    <tr>\n",
       "      <th>Oh No, Babe</th>\n",
       "      <td>0.026259</td>\n",
       "      <td>0.026292</td>\n",
       "      <td>0.026313</td>\n",
       "      <td>0.868528</td>\n",
       "      <td>0.026327</td>\n",
       "      <td>0.026282</td>\n",
       "      <td>topic_4</td>\n",
       "    </tr>\n",
       "    <tr>\n",
       "      <th>Trashed - 2004 Remaster</th>\n",
       "      <td>0.022427</td>\n",
       "      <td>0.022465</td>\n",
       "      <td>0.346033</td>\n",
       "      <td>0.564244</td>\n",
       "      <td>0.022467</td>\n",
       "      <td>0.022365</td>\n",
       "      <td>topic_4</td>\n",
       "    </tr>\n",
       "    <tr>\n",
       "      <th>Lucus Was A Redneck</th>\n",
       "      <td>0.026888</td>\n",
       "      <td>0.026813</td>\n",
       "      <td>0.026868</td>\n",
       "      <td>0.865682</td>\n",
       "      <td>0.026962</td>\n",
       "      <td>0.026786</td>\n",
       "      <td>topic_4</td>\n",
       "    </tr>\n",
       "    <tr>\n",
       "      <th>Hominy Grits</th>\n",
       "      <td>0.028242</td>\n",
       "      <td>0.253215</td>\n",
       "      <td>0.028298</td>\n",
       "      <td>0.633699</td>\n",
       "      <td>0.028277</td>\n",
       "      <td>0.028270</td>\n",
       "      <td>topic_4</td>\n",
       "    </tr>\n",
       "    <tr>\n",
       "      <th>Rich Girl</th>\n",
       "      <td>0.370936</td>\n",
       "      <td>0.024006</td>\n",
       "      <td>0.023868</td>\n",
       "      <td>0.533225</td>\n",
       "      <td>0.023887</td>\n",
       "      <td>0.024078</td>\n",
       "      <td>topic_4</td>\n",
       "    </tr>\n",
       "    <tr>\n",
       "      <th>...</th>\n",
       "      <td>...</td>\n",
       "      <td>...</td>\n",
       "      <td>...</td>\n",
       "      <td>...</td>\n",
       "      <td>...</td>\n",
       "      <td>...</td>\n",
       "      <td>...</td>\n",
       "    </tr>\n",
       "    <tr>\n",
       "      <th>What Ya Want</th>\n",
       "      <td>0.021519</td>\n",
       "      <td>0.021487</td>\n",
       "      <td>0.021500</td>\n",
       "      <td>0.497229</td>\n",
       "      <td>0.021443</td>\n",
       "      <td>0.416823</td>\n",
       "      <td>topic_4</td>\n",
       "    </tr>\n",
       "    <tr>\n",
       "      <th>claws</th>\n",
       "      <td>0.044077</td>\n",
       "      <td>0.043714</td>\n",
       "      <td>0.043490</td>\n",
       "      <td>0.781171</td>\n",
       "      <td>0.043794</td>\n",
       "      <td>0.043753</td>\n",
       "      <td>topic_4</td>\n",
       "    </tr>\n",
       "    <tr>\n",
       "      <th>Come, Gone</th>\n",
       "      <td>0.020462</td>\n",
       "      <td>0.020485</td>\n",
       "      <td>0.020613</td>\n",
       "      <td>0.897397</td>\n",
       "      <td>0.020636</td>\n",
       "      <td>0.020407</td>\n",
       "      <td>topic_4</td>\n",
       "    </tr>\n",
       "    <tr>\n",
       "      <th>Fazers</th>\n",
       "      <td>0.017470</td>\n",
       "      <td>0.017487</td>\n",
       "      <td>0.017534</td>\n",
       "      <td>0.912493</td>\n",
       "      <td>0.017589</td>\n",
       "      <td>0.017426</td>\n",
       "      <td>topic_4</td>\n",
       "    </tr>\n",
       "    <tr>\n",
       "      <th>Wolfman Jack</th>\n",
       "      <td>0.029435</td>\n",
       "      <td>0.029412</td>\n",
       "      <td>0.029518</td>\n",
       "      <td>0.597259</td>\n",
       "      <td>0.029682</td>\n",
       "      <td>0.284693</td>\n",
       "      <td>topic_4</td>\n",
       "    </tr>\n",
       "  </tbody>\n",
       "</table>\n",
       "<p>5988 rows × 7 columns</p>\n",
       "</div>"
      ],
      "text/plain": [
       "                          topic_1   topic_2   topic_3   topic_4   topic_5  \\\n",
       "name                                                                        \n",
       "Oh No, Babe              0.026259  0.026292  0.026313  0.868528  0.026327   \n",
       "Trashed - 2004 Remaster  0.022427  0.022465  0.346033  0.564244  0.022467   \n",
       "Lucus Was A Redneck      0.026888  0.026813  0.026868  0.865682  0.026962   \n",
       "Hominy Grits             0.028242  0.253215  0.028298  0.633699  0.028277   \n",
       "Rich Girl                0.370936  0.024006  0.023868  0.533225  0.023887   \n",
       "...                           ...       ...       ...       ...       ...   \n",
       "What Ya Want             0.021519  0.021487  0.021500  0.497229  0.021443   \n",
       "claws                    0.044077  0.043714  0.043490  0.781171  0.043794   \n",
       "Come, Gone               0.020462  0.020485  0.020613  0.897397  0.020636   \n",
       "Fazers                   0.017470  0.017487  0.017534  0.912493  0.017589   \n",
       "Wolfman Jack             0.029435  0.029412  0.029518  0.597259  0.029682   \n",
       "\n",
       "                          topic_6 dominant_topic  \n",
       "name                                              \n",
       "Oh No, Babe              0.026282        topic_4  \n",
       "Trashed - 2004 Remaster  0.022365        topic_4  \n",
       "Lucus Was A Redneck      0.026786        topic_4  \n",
       "Hominy Grits             0.028270        topic_4  \n",
       "Rich Girl                0.024078        topic_4  \n",
       "...                           ...            ...  \n",
       "What Ya Want             0.416823        topic_4  \n",
       "claws                    0.043753        topic_4  \n",
       "Come, Gone               0.020407        topic_4  \n",
       "Fazers                   0.017426        topic_4  \n",
       "Wolfman Jack             0.284693        topic_4  \n",
       "\n",
       "[5988 rows x 7 columns]"
      ]
     },
     "execution_count": 162,
     "metadata": {},
     "output_type": "execute_result"
    }
   ],
   "source": [
    "gen_df[gen_df['dominant_topic']=='topic_4']"
   ]
  },
  {
   "cell_type": "markdown",
   "metadata": {},
   "source": [
    "## Play around with NMF a bit more"
   ]
  },
  {
   "cell_type": "code",
   "execution_count": 181,
   "metadata": {},
   "outputs": [],
   "source": [
    "corpus = music_df['lyrics']"
   ]
  },
  {
   "cell_type": "code",
   "execution_count": 141,
   "metadata": {},
   "outputs": [],
   "source": [
    "nlp = NLPPipe(vectorizer=TfidfVectorizer(stop_words = stop_words,min_df=0.01), \n",
    "              cleaning_function=clean_text, \n",
    "              tokenizer=TreebankWordTokenizer().tokenize,\n",
    "              stemmer = PorterStemmer())\n",
    "\n",
    "tf_result = nlp.fit_transform(corpus)"
   ]
  },
  {
   "cell_type": "code",
   "execution_count": 142,
   "metadata": {},
   "outputs": [],
   "source": [
    "nmf_model = NMF(5)\n",
    "doc_topic = nmf_model.fit_transform(tf_result)"
   ]
  },
  {
   "cell_type": "code",
   "execution_count": 143,
   "metadata": {},
   "outputs": [
    {
     "name": "stdout",
     "output_type": "stream",
     "text": [
      "\n",
      "Topic  0\n",
      "thi, time, one, come, day, away, night, never, hi, life\n",
      "\n",
      "Topic  1\n",
      "love, heart, true, give, need, feel, fall, never, kiss, alway\n",
      "\n",
      "Topic  2\n",
      "nigga, like, bitch, shit, fuck, thi, em, ass, back, money\n",
      "\n",
      "Topic  3\n",
      "babi, girl, come, littl, good, hey, tonight, right, babe, alright\n",
      "\n",
      "Topic  4\n",
      "dont, know, want, need, whi, think, feel, caus, girl, tri\n"
     ]
    }
   ],
   "source": [
    "display_topics(nmf_model, nlp.vectorizer.get_feature_names(), 10)"
   ]
  },
  {
   "cell_type": "code",
   "execution_count": 144,
   "metadata": {},
   "outputs": [],
   "source": [
    "nlp = NLPPipe(vectorizer=CountVectorizer(stop_words = stop_words,max_df=0.5), \n",
    "              cleaning_function=clean_text, \n",
    "              tokenizer=TreebankWordTokenizer().tokenize,\n",
    "              stemmer = PorterStemmer())\n",
    "\n",
    "count_result = nlp.fit_transform(corpus)"
   ]
  },
  {
   "cell_type": "code",
   "execution_count": 145,
   "metadata": {},
   "outputs": [
    {
     "name": "stdout",
     "output_type": "stream",
     "text": [
      "\n",
      "Topic  0\n",
      "ajumpin, akiss, aggi, abrir, ac, aactin, againyesterday, agains, admit, affectin\n",
      "\n",
      "Topic  1\n",
      "afing, adjustin, alaykum, acuffros, againoh, acompanado, acknowledg, agains, advocaci, aaaaay\n",
      "\n",
      "Topic  2\n",
      "againyeah, affi, abandonedli, ahhuh, action, ajumpin, acendeu, aaat, aahaah, afternoon\n",
      "\n",
      "Topic  3\n",
      "aah, acuerda, abrir, affirm, adaptor, admiss, alabam, ahangin, aafter, aaaaahhhahah\n",
      "\n",
      "Topic  4\n",
      "accolad, aeat, alentour, againoh, alig, ajust, acompanado, abondon, acuerda, alarm\n"
     ]
    }
   ],
   "source": [
    "display_topics(nmf_model, nlp.vectorizer.get_feature_names(), 10)"
   ]
  },
  {
   "cell_type": "code",
   "execution_count": 146,
   "metadata": {},
   "outputs": [],
   "source": [
    "nlp = NLPPipe(vectorizer=CountVectorizer(stop_words = stop_words,min_df=0.01), \n",
    "              cleaning_function=clean_text, \n",
    "              tokenizer=TreebankWordTokenizer().tokenize,\n",
    "              stemmer = PorterStemmer())\n",
    "\n",
    "count_result = nlp.fit_transform(corpus)"
   ]
  },
  {
   "cell_type": "code",
   "execution_count": 147,
   "metadata": {},
   "outputs": [],
   "source": [
    "nmf_model = NMF(6)\n",
    "doc_topic = nmf_model.fit_transform(count_result)"
   ]
  },
  {
   "cell_type": "code",
   "execution_count": 148,
   "metadata": {},
   "outputs": [
    {
     "name": "stdout",
     "output_type": "stream",
     "text": [
      "\n",
      "Topic  0\n",
      "thi, time, one, come, day, away, night, never, hi, take\n",
      "\n",
      "Topic  1\n",
      "love, heart, true, give, need, feel, fall, never, kiss, alway\n",
      "\n",
      "Topic  2\n",
      "nigga, like, bitch, shit, fuck, thi, em, ass, back, money\n",
      "\n",
      "Topic  3\n",
      "babi, girl, come, littl, good, hey, tonight, right, babe, alright\n",
      "\n",
      "Topic  4\n",
      "know, dont, whi, think, feel, need, caus, tri, never, care\n",
      "\n",
      "Topic  5\n",
      "want, need, girl, give, dont, take, one, realli, caus, hold\n"
     ]
    }
   ],
   "source": [
    "display_topics(nmf_model, nlp.vectorizer.get_feature_names(), 10)"
   ]
  },
  {
   "cell_type": "code",
   "execution_count": null,
   "metadata": {},
   "outputs": [],
   "source": []
  },
  {
   "cell_type": "code",
   "execution_count": 149,
   "metadata": {},
   "outputs": [],
   "source": [
    "nlp = NLPPipe(vectorizer=CountVectorizer(stop_words = stop_words,min_df=0.01), \n",
    "              cleaning_function=clean_text, \n",
    "              tokenizer=TreebankWordTokenizer().tokenize,\n",
    "              stemmer = PorterStemmer())\n",
    "\n",
    "count_result = nlp.fit_transform(corpus)"
   ]
  },
  {
   "cell_type": "code",
   "execution_count": 150,
   "metadata": {},
   "outputs": [],
   "source": [
    "nmf_model = NMF(6)\n",
    "doc_topic = nmf_model.fit_transform(count_result)"
   ]
  },
  {
   "cell_type": "code",
   "execution_count": 151,
   "metadata": {},
   "outputs": [
    {
     "name": "stdout",
     "output_type": "stream",
     "text": [
      "\n",
      "Topic  0\n",
      "know, never, feel, whi, caus, realli, girl, think, thing, could\n",
      "\n",
      "Topic  1\n",
      "love, heart, need, feel, give, day, never, still, girl, one\n",
      "\n",
      "Topic  2\n",
      "like, nigga, bitch, shit, fuck, back, thi, em, caus, feel\n",
      "\n",
      "Topic  3\n",
      "thi, time, one, come, back, take, never, day, night, feel\n",
      "\n",
      "Topic  4\n",
      "dont, want, need, nigga, give, caus, whi, fuck, think, care\n",
      "\n",
      "Topic  5\n",
      "babi, come, girl, want, take, good, littl, right, need, shake\n"
     ]
    }
   ],
   "source": [
    "display_topics(nmf_model, nlp.vectorizer.get_feature_names(), 10)"
   ]
  },
  {
   "cell_type": "code",
   "execution_count": 152,
   "metadata": {},
   "outputs": [],
   "source": [
    "nlp = NLPPipe(vectorizer=CountVectorizer(stop_words = stop_words,min_df=0.01), \n",
    "              cleaning_function=clean_text, \n",
    "              tokenizer=TreebankWordTokenizer().tokenize,\n",
    "              stemmer = PorterStemmer())\n",
    "\n",
    "count_result = nlp.fit_transform(corpus)"
   ]
  },
  {
   "cell_type": "code",
   "execution_count": 153,
   "metadata": {},
   "outputs": [
    {
     "name": "stdout",
     "output_type": "stream",
     "text": [
      "\n",
      "Topic  0\n",
      "hi, love, come, thi, like, one, day, away, eye, man\n",
      "\n",
      "Topic  1\n",
      "like, nigga, bitch, shit, dont, fuck, thi, know, back, em\n",
      "\n",
      "Topic  2\n",
      "thi, dont, know, like, time, take, life, one, live, world\n",
      "\n",
      "Topic  3\n",
      "babi, know, dont, come, love, home, woman, danc, good, like\n",
      "\n",
      "Topic  4\n",
      "love, know, dont, want, heart, never, feel, time, babi, one\n",
      "\n",
      "Topic  5\n",
      "love, song, sing, girl, hey, like, littl, blue, night, music\n"
     ]
    }
   ],
   "source": [
    "lda_count = LatentDirichletAllocation(n_components=6, random_state=0)\n",
    "lda_count.fit(count_result)\n",
    "display_topics(lda_count, nlp.vectorizer.get_feature_names(), 10)"
   ]
  },
  {
   "cell_type": "markdown",
   "metadata": {},
   "source": [
    "## Porter Stemmer with TFIDF"
   ]
  },
  {
   "cell_type": "code",
   "execution_count": 154,
   "metadata": {},
   "outputs": [],
   "source": [
    "from sklearn.feature_extraction.text import TfidfVectorizer\n",
    "import pickle \n",
    "from nltk.tokenize import TreebankWordTokenizer\n",
    "from autocorrect import Speller\n",
    "from nltk.stem import PorterStemmer\n",
    "\n",
    "class NLPPipe:\n",
    "   \n",
    "    def __init__(self, vectorizer=TfidfVectorizer(), tokenizer=None, cleaning_function=None, \n",
    "                 stemmer=None,model=None):\n",
    "        if not tokenizer:\n",
    "            tokenizer = self.splitter\n",
    "        if not cleaning_function:\n",
    "            cleaning_function = self.clean_text\n",
    "        self.stemmer = stemmer\n",
    "        self.tokenizer = tokenizer\n",
    "        self.model = model\n",
    "        self.cleaning_function = cleaning_function\n",
    "        self.vectorizer = vectorizer\n",
    "        self._is_fit = False\n",
    "        \n",
    "    def splitter(self, text):\n",
    "        return text.split(' ')\n",
    "        \n",
    " \n",
    "    \n",
    "    def fit_transform(self, text):\n",
    "        clean_text = self.cleaning_function(text, self.tokenizer, self.stemmer)\n",
    "        return self.vectorizer.fit_transform(clean_text)"
   ]
  },
  {
   "cell_type": "code",
   "execution_count": 155,
   "metadata": {},
   "outputs": [],
   "source": [
    "nlp = NLPPipe(vectorizer=TfidfVectorizer(stop_words = stop_words,min_df=0.01), \n",
    "              cleaning_function=clean_text, \n",
    "              tokenizer=TreebankWordTokenizer().tokenize,\n",
    "              stemmer = PorterStemmer())\n",
    "\n",
    "tf_result = nlp.fit_transform(corpus)"
   ]
  },
  {
   "cell_type": "code",
   "execution_count": 156,
   "metadata": {},
   "outputs": [
    {
     "name": "stdout",
     "output_type": "stream",
     "text": [
      "\n",
      "Topic  0\n",
      "hi, love, come, thi, like, one, day, away, eye, man\n",
      "\n",
      "Topic  1\n",
      "like, nigga, bitch, shit, dont, fuck, thi, know, back, em\n",
      "\n",
      "Topic  2\n",
      "thi, dont, know, like, time, take, life, one, live, world\n",
      "\n",
      "Topic  3\n",
      "babi, know, dont, come, love, home, woman, danc, good, like\n",
      "\n",
      "Topic  4\n",
      "love, know, dont, want, heart, never, feel, time, babi, one\n",
      "\n",
      "Topic  5\n",
      "love, song, sing, girl, hey, like, littl, blue, night, music\n"
     ]
    }
   ],
   "source": [
    "lda_tf = LatentDirichletAllocation(n_components=6, random_state=0)\n",
    "lda_tf.fit(tf_result)\n",
    "display_topics(lda_tf, nlp.vectorizer.get_feature_names(), 10)"
   ]
  },
  {
   "cell_type": "code",
   "execution_count": 157,
   "metadata": {},
   "outputs": [],
   "source": [
    "nlp = NLPPipe(vectorizer=TfidfVectorizer(stop_words = stop_words,min_df=0.01,ngram_range=(1,2)), \n",
    "              cleaning_function=clean_text, \n",
    "              tokenizer=TreebankWordTokenizer().tokenize,\n",
    "              stemmer = PorterStemmer())\n",
    "\n",
    "tf_result = nlp.fit_transform(corpus)"
   ]
  },
  {
   "cell_type": "code",
   "execution_count": 158,
   "metadata": {},
   "outputs": [
    {
     "name": "stdout",
     "output_type": "stream",
     "text": [
      "\n",
      "Topic  0\n",
      "love, day, dream, come, hi, sky, night, like, eye, thi, light, heart, one, sun, away, rain, sing, moon, world, star\n",
      "\n",
      "Topic  1\n",
      "like, hi, back, danc, man, babi, night, come, rock, one, hey, said, littl, know, thi, boy, girl, old, time, home\n",
      "\n",
      "Topic  2\n",
      "love, babi, know, love love, feel, girl, want, heart, need, never, one, dont, like, give, thi, time, hold, good, littl, kiss\n",
      "\n",
      "Topic  3\n",
      "nigga, like, fuck, bitch, shit, thi, dont, know, em, back, caus, money, ass, hit, ta, one, man, put, yall, want\n",
      "\n",
      "Topic  4\n",
      "time, thi, know, away, love, feel, never, life, take, come, dont, one, heart, like, back, live, day, world, could, eye\n",
      "\n",
      "Topic  5\n",
      "dont, know, want, like, love, man, whi, think, dont know, need, babi, thing, woman, thi, time, care, good, one, caus, take\n"
     ]
    }
   ],
   "source": [
    "lda_tf = LatentDirichletAllocation(n_components=6, random_state=0)\n",
    "lda_tf.fit(tf_result)\n",
    "display_topics(lda_tf, nlp.vectorizer.get_feature_names(), 20)"
   ]
  },
  {
   "cell_type": "code",
   "execution_count": 159,
   "metadata": {},
   "outputs": [
    {
     "data": {
      "text/plain": [
       "array([[0.03391984, 0.03425283, 0.03395879, 0.03390535, 0.82987772,\n",
       "        0.03408548],\n",
       "       [0.02811002, 0.02811598, 0.02835833, 0.02829248, 0.85885561,\n",
       "        0.02826758],\n",
       "       [0.03647244, 0.81719033, 0.03659895, 0.03646109, 0.03662874,\n",
       "        0.03664844],\n",
       "       ...,\n",
       "       [0.02537972, 0.87312412, 0.02544682, 0.0252826 , 0.02538948,\n",
       "        0.02537726],\n",
       "       [0.82102379, 0.03589551, 0.03577393, 0.0357824 , 0.03583175,\n",
       "        0.03569262],\n",
       "       [0.05176592, 0.05212735, 0.73975265, 0.05236427, 0.05180442,\n",
       "        0.05218539]])"
      ]
     },
     "execution_count": 159,
     "metadata": {},
     "output_type": "execute_result"
    }
   ],
   "source": [
    "topic_values = lda_tf.transform(tf_result)\n",
    "topic_values"
   ]
  },
  {
   "cell_type": "code",
   "execution_count": 215,
   "metadata": {},
   "outputs": [],
   "source": [
    "\n",
    "df = pd.DataFrame(topic_values.round(5),\n",
    "             index = music_df.name,\n",
    "             columns = [\"topic_1\",\"topic_2\",\"topic_3\",'topic_4','topic_5',\\\n",
    "                       'topic_6'])"
   ]
  },
  {
   "cell_type": "code",
   "execution_count": 216,
   "metadata": {},
   "outputs": [],
   "source": [
    "maxValues = df.idxmax(axis=1)"
   ]
  },
  {
   "cell_type": "code",
   "execution_count": 218,
   "metadata": {},
   "outputs": [],
   "source": [
    "df['dominant_topic'] = maxValues"
   ]
  },
  {
   "cell_type": "code",
   "execution_count": 219,
   "metadata": {},
   "outputs": [
    {
     "data": {
      "text/html": [
       "<div>\n",
       "<style scoped>\n",
       "    .dataframe tbody tr th:only-of-type {\n",
       "        vertical-align: middle;\n",
       "    }\n",
       "\n",
       "    .dataframe tbody tr th {\n",
       "        vertical-align: top;\n",
       "    }\n",
       "\n",
       "    .dataframe thead th {\n",
       "        text-align: right;\n",
       "    }\n",
       "</style>\n",
       "<table border=\"1\" class=\"dataframe\">\n",
       "  <thead>\n",
       "    <tr style=\"text-align: right;\">\n",
       "      <th></th>\n",
       "      <th>topic_1</th>\n",
       "      <th>topic_2</th>\n",
       "      <th>topic_3</th>\n",
       "      <th>topic_4</th>\n",
       "      <th>topic_5</th>\n",
       "      <th>topic_6</th>\n",
       "      <th>dominant_topic</th>\n",
       "    </tr>\n",
       "    <tr>\n",
       "      <th>name</th>\n",
       "      <th></th>\n",
       "      <th></th>\n",
       "      <th></th>\n",
       "      <th></th>\n",
       "      <th></th>\n",
       "      <th></th>\n",
       "      <th></th>\n",
       "    </tr>\n",
       "  </thead>\n",
       "  <tbody>\n",
       "    <tr>\n",
       "      <th>I Can't See Your Face in My Mind</th>\n",
       "      <td>0.03270</td>\n",
       "      <td>0.83554</td>\n",
       "      <td>0.03265</td>\n",
       "      <td>0.03272</td>\n",
       "      <td>0.03298</td>\n",
       "      <td>0.03342</td>\n",
       "      <td>topic_2</td>\n",
       "    </tr>\n",
       "    <tr>\n",
       "      <th>I Could Have Lied</th>\n",
       "      <td>0.02808</td>\n",
       "      <td>0.85897</td>\n",
       "      <td>0.02812</td>\n",
       "      <td>0.02809</td>\n",
       "      <td>0.02866</td>\n",
       "      <td>0.02807</td>\n",
       "      <td>topic_2</td>\n",
       "    </tr>\n",
       "    <tr>\n",
       "      <th>The Letter - Mono Single Version</th>\n",
       "      <td>0.03442</td>\n",
       "      <td>0.03455</td>\n",
       "      <td>0.03435</td>\n",
       "      <td>0.03461</td>\n",
       "      <td>0.03435</td>\n",
       "      <td>0.82772</td>\n",
       "      <td>topic_6</td>\n",
       "    </tr>\n",
       "    <tr>\n",
       "      <th>Promises - Skrillex &amp; Nero Remix</th>\n",
       "      <td>0.04685</td>\n",
       "      <td>0.76572</td>\n",
       "      <td>0.04702</td>\n",
       "      <td>0.04682</td>\n",
       "      <td>0.04679</td>\n",
       "      <td>0.04680</td>\n",
       "      <td>topic_2</td>\n",
       "    </tr>\n",
       "    <tr>\n",
       "      <th>Oh No, Babe</th>\n",
       "      <td>0.02588</td>\n",
       "      <td>0.02583</td>\n",
       "      <td>0.02572</td>\n",
       "      <td>0.02577</td>\n",
       "      <td>0.87103</td>\n",
       "      <td>0.02577</td>\n",
       "      <td>topic_5</td>\n",
       "    </tr>\n",
       "    <tr>\n",
       "      <th>...</th>\n",
       "      <td>...</td>\n",
       "      <td>...</td>\n",
       "      <td>...</td>\n",
       "      <td>...</td>\n",
       "      <td>...</td>\n",
       "      <td>...</td>\n",
       "      <td>...</td>\n",
       "    </tr>\n",
       "    <tr>\n",
       "      <th>I've Been Loving You Too Long - Live in Europe; 2008 Remaster</th>\n",
       "      <td>0.02340</td>\n",
       "      <td>0.45593</td>\n",
       "      <td>0.02345</td>\n",
       "      <td>0.45036</td>\n",
       "      <td>0.02342</td>\n",
       "      <td>0.02344</td>\n",
       "      <td>topic_2</td>\n",
       "    </tr>\n",
       "    <tr>\n",
       "      <th>Fazers</th>\n",
       "      <td>0.34658</td>\n",
       "      <td>0.01736</td>\n",
       "      <td>0.01738</td>\n",
       "      <td>0.01734</td>\n",
       "      <td>0.58390</td>\n",
       "      <td>0.01744</td>\n",
       "      <td>topic_5</td>\n",
       "    </tr>\n",
       "    <tr>\n",
       "      <th>Wolfman Jack</th>\n",
       "      <td>0.02915</td>\n",
       "      <td>0.02910</td>\n",
       "      <td>0.02939</td>\n",
       "      <td>0.85366</td>\n",
       "      <td>0.02930</td>\n",
       "      <td>0.02938</td>\n",
       "      <td>topic_4</td>\n",
       "    </tr>\n",
       "    <tr>\n",
       "      <th>I Burn For You - Live In Arnhem</th>\n",
       "      <td>0.03358</td>\n",
       "      <td>0.03359</td>\n",
       "      <td>0.83197</td>\n",
       "      <td>0.03366</td>\n",
       "      <td>0.03361</td>\n",
       "      <td>0.03359</td>\n",
       "      <td>topic_3</td>\n",
       "    </tr>\n",
       "    <tr>\n",
       "      <th>Love, The Time Is Now</th>\n",
       "      <td>0.05075</td>\n",
       "      <td>0.05108</td>\n",
       "      <td>0.05081</td>\n",
       "      <td>0.74538</td>\n",
       "      <td>0.05105</td>\n",
       "      <td>0.05092</td>\n",
       "      <td>topic_4</td>\n",
       "    </tr>\n",
       "  </tbody>\n",
       "</table>\n",
       "<p>30000 rows × 7 columns</p>\n",
       "</div>"
      ],
      "text/plain": [
       "                                                    topic_1  topic_2  topic_3  \\\n",
       "name                                                                            \n",
       "I Can't See Your Face in My Mind                    0.03270  0.83554  0.03265   \n",
       "I Could Have Lied                                   0.02808  0.85897  0.02812   \n",
       "The Letter - Mono Single Version                    0.03442  0.03455  0.03435   \n",
       "Promises - Skrillex & Nero Remix                    0.04685  0.76572  0.04702   \n",
       "Oh No, Babe                                         0.02588  0.02583  0.02572   \n",
       "...                                                     ...      ...      ...   \n",
       "I've Been Loving You Too Long - Live in Europe;...  0.02340  0.45593  0.02345   \n",
       "Fazers                                              0.34658  0.01736  0.01738   \n",
       "Wolfman Jack                                        0.02915  0.02910  0.02939   \n",
       "I Burn For You - Live In Arnhem                     0.03358  0.03359  0.83197   \n",
       "Love, The Time Is Now                               0.05075  0.05108  0.05081   \n",
       "\n",
       "                                                    topic_4  topic_5  topic_6  \\\n",
       "name                                                                            \n",
       "I Can't See Your Face in My Mind                    0.03272  0.03298  0.03342   \n",
       "I Could Have Lied                                   0.02809  0.02866  0.02807   \n",
       "The Letter - Mono Single Version                    0.03461  0.03435  0.82772   \n",
       "Promises - Skrillex & Nero Remix                    0.04682  0.04679  0.04680   \n",
       "Oh No, Babe                                         0.02577  0.87103  0.02577   \n",
       "...                                                     ...      ...      ...   \n",
       "I've Been Loving You Too Long - Live in Europe;...  0.45036  0.02342  0.02344   \n",
       "Fazers                                              0.01734  0.58390  0.01744   \n",
       "Wolfman Jack                                        0.85366  0.02930  0.02938   \n",
       "I Burn For You - Live In Arnhem                     0.03366  0.03361  0.03359   \n",
       "Love, The Time Is Now                               0.74538  0.05105  0.05092   \n",
       "\n",
       "                                                   dominant_topic  \n",
       "name                                                               \n",
       "I Can't See Your Face in My Mind                          topic_2  \n",
       "I Could Have Lied                                         topic_2  \n",
       "The Letter - Mono Single Version                          topic_6  \n",
       "Promises - Skrillex & Nero Remix                          topic_2  \n",
       "Oh No, Babe                                               topic_5  \n",
       "...                                                           ...  \n",
       "I've Been Loving You Too Long - Live in Europe;...        topic_2  \n",
       "Fazers                                                    topic_5  \n",
       "Wolfman Jack                                              topic_4  \n",
       "I Burn For You - Live In Arnhem                           topic_3  \n",
       "Love, The Time Is Now                                     topic_4  \n",
       "\n",
       "[30000 rows x 7 columns]"
      ]
     },
     "execution_count": 219,
     "metadata": {},
     "output_type": "execute_result"
    }
   ],
   "source": [
    "df"
   ]
  },
  {
   "cell_type": "code",
   "execution_count": 220,
   "metadata": {},
   "outputs": [
    {
     "data": {
      "text/plain": [
       "<AxesSubplot:>"
      ]
     },
     "execution_count": 220,
     "metadata": {},
     "output_type": "execute_result"
    },
    {
     "data": {
      "image/png": "[encoded data removed]",
      "text/plain": [
       "<Figure size 432x288 with 1 Axes>"
      ]
     },
     "metadata": {
      "needs_background": "light"
     },
     "output_type": "display_data"
    }
   ],
   "source": [
    "df['dominant_topic'].value_counts().plot(kind='bar')"
   ]
  },
  {
   "cell_type": "code",
   "execution_count": 221,
   "metadata": {},
   "outputs": [],
   "source": [
    "X= df[['topic_1','topic_2','topic_3','topic_4','topic_5','topic_6']]"
   ]
  },
  {
   "cell_type": "code",
   "execution_count": 222,
   "metadata": {},
   "outputs": [],
   "source": [
    "target = df['dominant_topic']"
   ]
  },
  {
   "cell_type": "code",
   "execution_count": 223,
   "metadata": {},
   "outputs": [],
   "source": [
    "target_name = list(target.unique())"
   ]
  },
  {
   "cell_type": "code",
   "execution_count": 224,
   "metadata": {},
   "outputs": [],
   "source": [
    "tsne_model = TSNE(n_components=2,perplexity=50, random_state=42)\n",
    "tsne_data = tsne_model.fit_transform(X)"
   ]
  },
  {
   "cell_type": "code",
   "execution_count": 225,
   "metadata": {},
   "outputs": [
    {
     "data": {
      "image/png": "[encoded data removed]",
      "text/plain": [
       "<Figure size 432x288 with 1 Axes>"
      ]
     },
     "metadata": {
      "needs_background": "light"
     },
     "output_type": "display_data"
    }
   ],
   "source": [
    "plot_tsne(tsne_data,target,target_name)"
   ]
  },
  {
   "cell_type": "code",
   "execution_count": 226,
   "metadata": {},
   "outputs": [],
   "source": [
    "maxValues = maxValues.reset_index()"
   ]
  },
  {
   "cell_type": "code",
   "execution_count": 227,
   "metadata": {},
   "outputs": [],
   "source": [
    "music_df['dominant_topic'] = maxValues[0]"
   ]
  },
  {
   "cell_type": "code",
   "execution_count": 228,
   "metadata": {},
   "outputs": [],
   "source": [
    "music_df.to_csv('recommenderdata2.csv')"
   ]
  },
  {
   "cell_type": "markdown",
   "metadata": {},
   "source": [
    "## Try removing this and see how topics change"
   ]
  },
  {
   "cell_type": "code",
   "execution_count": 99,
   "metadata": {},
   "outputs": [],
   "source": [
    "newStopWords = ['thi','only','like','hi']\n",
    "stopwords.extend(newStopWords)\n",
    "stop_words = stopwords"
   ]
  },
  {
   "cell_type": "code",
   "execution_count": 100,
   "metadata": {},
   "outputs": [],
   "source": [
    "nlp = NLPPipe(vectorizer=TfidfVectorizer(stop_words = stop_words,min_df=0.01), \n",
    "              cleaning_function=clean_text, \n",
    "              tokenizer=TreebankWordTokenizer().tokenize,\n",
    "              stemmer = PorterStemmer())\n",
    "\n",
    "tf_result = nlp.fit_transform(corpus)"
   ]
  },
  {
   "cell_type": "code",
   "execution_count": 101,
   "metadata": {},
   "outputs": [
    {
     "name": "stdout",
     "output_type": "stream",
     "text": [
      "\n",
      "Topic  0\n",
      "love, night, light, eye, come, away, sky, fire, fli, feel\n",
      "\n",
      "Topic  1\n",
      "nigga, fuck, shit, bitch, dont, know, back, em, caus, money\n",
      "\n",
      "Topic  2\n",
      "know, dont, danc, time, said, one, littl, song, think, want\n",
      "\n",
      "Topic  3\n",
      "love, know, heart, never, time, dont, one, feel, dream, day\n",
      "\n",
      "Topic  4\n",
      "one, know, come, man, time, day, world, live, love, away\n",
      "\n",
      "Topic  5\n",
      "love, babi, know, want, dont, girl, need, feel, good, give\n"
     ]
    }
   ],
   "source": [
    "lda_tf = LatentDirichletAllocation(n_components=6, random_state=0)\n",
    "lda_tf.fit(tf_result)\n",
    "display_topics(lda_tf, nlp.vectorizer.get_feature_names(), 10)"
   ]
  },
  {
   "cell_type": "code",
   "execution_count": 102,
   "metadata": {},
   "outputs": [],
   "source": [
    "nlp = NLPPipe(vectorizer=TfidfVectorizer(stop_words = stop_words,min_df=0.01,ngram_range=(1,2)), \n",
    "              cleaning_function=clean_text, \n",
    "              tokenizer=TreebankWordTokenizer().tokenize,\n",
    "              stemmer = PorterStemmer())\n",
    "\n",
    "tf_result = nlp.fit_transform(corpus)"
   ]
  },
  {
   "cell_type": "code",
   "execution_count": 103,
   "metadata": {},
   "outputs": [
    {
     "name": "stdout",
     "output_type": "stream",
     "text": [
      "\n",
      "Topic  0\n",
      "sing, night, song, come, love, day, blue, one, old, long, sun, sky, rain, littl, away, time, home, danc, light, man\n",
      "\n",
      "Topic  1\n",
      "babi, dont, know, want, love, girl, need, feel, good, right, come, littl, dont know, tonight, take, babi babi, alright, time, know know, whi\n",
      "\n",
      "Topic  2\n",
      "love, heart, know, love love, never, feel, one, dream, time, day, need, onli, want, true, could, hold, dont, away, fall, alway\n",
      "\n",
      "Topic  3\n",
      "nigga, fuck, bitch, shit, dont, know, back, em, caus, money, man, want, hit, ass, one, put, take, come, ta, boy\n",
      "\n",
      "Topic  4\n",
      "time, know, dont, one, think, said, never, love, home, thing, man, could, back, day, come, friend, good, life, want, gone\n",
      "\n",
      "Topic  5\n",
      "away, take, know, feel, one, eye, life, world, come, run, live, time, die, fire, burn, dont, us, never, light, love\n"
     ]
    }
   ],
   "source": [
    "lda_tf = LatentDirichletAllocation(n_components=6, random_state=0)\n",
    "lda_tf.fit(tf_result)\n",
    "display_topics(lda_tf, nlp.vectorizer.get_feature_names(), 20)"
   ]
  },
  {
   "cell_type": "code",
   "execution_count": null,
   "metadata": {},
   "outputs": [],
   "source": []
  }
 ],
 "metadata": {
  "kernelspec": {
   "display_name": "Python 3",
   "language": "python",
   "name": "python3"
  },
  "language_info": {
   "codemirror_mode": {
    "name": "ipython",
    "version": 3
   },
   "file_extension": ".py",
   "mimetype": "text/x-python",
   "name": "python",
   "nbconvert_exporter": "python",
   "pygments_lexer": "ipython3",
   "version": "3.8.5"
  }
 },
 "nbformat": 4,
 "nbformat_minor": 4
}
